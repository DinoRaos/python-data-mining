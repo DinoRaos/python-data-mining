{
 "cells": [
  {
   "cell_type": "markdown",
   "source": [
    "## Weather API"
   ],
   "metadata": {
    "collapsed": false
   },
   "id": "80d775165a8da80c"
  },
  {
   "cell_type": "code",
   "source": [
    "from datetime import datetime, timedelta\n",
    "import requests\n",
    "import json\n",
    "import config\n",
    "import pandas as pd"
   ],
   "metadata": {
    "collapsed": false,
    "ExecuteTime": {
     "end_time": "2024-04-11T14:21:09.854658Z",
     "start_time": "2024-04-11T14:21:09.850706Z"
    }
   },
   "id": "e0f9f053c6169209",
   "outputs": [],
   "execution_count": 19
  },
  {
   "cell_type": "code",
   "source": [
    "weather_api_key = config.api_key\n",
    "\n",
    "weather_test = requests.get(\"http://api.weatherapi.com/v1/current.json\", params={\"key\": weather_api_key, \"q\": \"London\"})\n",
    "weather_json_test = json.loads(weather_test.text)\n",
    "print(weather_json_test.get(\"current\").get(\"last_updated\"))"
   ],
   "metadata": {
    "collapsed": false,
    "ExecuteTime": {
     "end_time": "2024-04-11T14:21:09.960542Z",
     "start_time": "2024-04-11T14:21:09.856170Z"
    }
   },
   "id": "e0628e4daf3ea0ab",
   "outputs": [
    {
     "name": "stdout",
     "output_type": "stream",
     "text": [
      "2024-04-11 15:00\n"
     ]
    }
   ],
   "execution_count": 20
  },
  {
   "cell_type": "code",
   "source": [
    "def get_weather_data(location, wtype, interval, apikey):\n",
    "    columns = [\"date\", \"max_temp\", \"min_temp\", \"avg_temp\", \"total_precipitation\", \"type\"]\n",
    "    loc_lower = location.lower()\n",
    "    wtype_lower = wtype.lower()\n",
    "\n",
    "    params = {\"key\": apikey,\n",
    "              \"q\": loc_lower,\n",
    "              }\n",
    "\n",
    "    if wtype_lower == \"forecast\":\n",
    "        params[\"days\"] = interval\n",
    "        weather = requests.get(f\"https://api.weatherapi.com/v1/{wtype_lower}.json\", params=params)\n",
    "        weather_json = json.loads(weather.text)\n",
    "\n",
    "        weather_df = convert_weather_data_to_df(weather_json, columns, wtype_lower)\n",
    "    elif wtype_lower == \"history\":\n",
    "        end_dt = datetime.now().strftime(\"%Y-%m-%d\")\n",
    "        start_dt = (datetime.now() - timedelta(days=interval)).strftime(\"%Y-%m-%d\")\n",
    "        params[\"dt\"] = start_dt\n",
    "        params[\"end_dt\"] = end_dt\n",
    "    \n",
    "        weather = requests.get(f\"https://api.weatherapi.com/v1/{wtype_lower}.json\", params=params)\n",
    "        weather_json = json.loads(weather.text)\n",
    "\n",
    "        weather_df = convert_weather_data_to_df(weather_json, columns, wtype_lower)\n",
    "    else:\n",
    "        raise ValueError(\"Wrong weather type\")\n",
    "\n",
    "    return weather_df"
   ],
   "metadata": {
    "collapsed": false,
    "ExecuteTime": {
     "end_time": "2024-04-11T14:21:09.966058Z",
     "start_time": "2024-04-11T14:21:09.960542Z"
    }
   },
   "id": "d50742795c14ecf1",
   "outputs": [],
   "execution_count": 21
  },
  {
   "metadata": {
    "ExecuteTime": {
     "end_time": "2024-04-11T14:21:09.971688Z",
     "start_time": "2024-04-11T14:21:09.967098Z"
    }
   },
   "cell_type": "code",
   "source": [
    "def convert_weather_data_to_df(weather_json, columns, wtype_lower):\n",
    "    if 'forecast' in weather_json and 'forecastday' in weather_json['forecast']:\n",
    "        history_data = weather_json['forecast']['forecastday']\n",
    "        weather_data = []\n",
    "        for history in history_data:\n",
    "            date = history['date']\n",
    "            max_temp = history['day']['maxtemp_c']\n",
    "            min_temp = history['day']['mintemp_c']\n",
    "            avg_temp = history['day']['avgtemp_c']\n",
    "            total_precipitation = history['day']['totalprecip_mm']\n",
    "            weather_type = wtype_lower\n",
    "            weather_data.append([date, max_temp, min_temp, avg_temp, total_precipitation, weather_type])\n",
    "\n",
    "        return pd.DataFrame(weather_data, columns=columns)\n",
    "    else:\n",
    "        print(\"No forecast data found.\")"
   ],
   "id": "905c0ddb10cf007d",
   "outputs": [],
   "execution_count": 22
  },
  {
   "cell_type": "code",
   "source": "print(get_weather_data(\"LONDON\", \"FORECAST\", 3, weather_api_key))",
   "metadata": {
    "collapsed": false,
    "ExecuteTime": {
     "end_time": "2024-04-11T14:21:10.333897Z",
     "start_time": "2024-04-11T14:21:09.972694Z"
    }
   },
   "id": "717f198ef01d9885",
   "outputs": [
    {
     "name": "stdout",
     "output_type": "stream",
     "text": [
      "         date  max_temp  min_temp  avg_temp  total_precipitation      type\n",
      "0  2024-04-11      16.6      11.7      13.5                 0.21  forecast\n",
      "1  2024-04-12      19.3      10.9      14.7                 0.00  forecast\n",
      "2  2024-04-13      19.1      10.2      14.6                 0.01  forecast\n"
     ]
    }
   ],
   "execution_count": 23
  },
  {
   "cell_type": "code",
   "source": "print(get_weather_data(\"London\", \"History\", 3, weather_api_key))",
   "metadata": {
    "collapsed": false,
    "ExecuteTime": {
     "end_time": "2024-04-11T14:21:10.746860Z",
     "start_time": "2024-04-11T14:21:10.334902Z"
    }
   },
   "id": "f34d327a698368a8",
   "outputs": [
    {
     "name": "stdout",
     "output_type": "stream",
     "text": [
      "         date  max_temp  min_temp  avg_temp  total_precipitation     type\n",
      "0  2024-04-08      17.2       9.0      12.6                 1.70  history\n",
      "1  2024-04-09      11.6       6.9       8.8                 0.60  history\n",
      "2  2024-04-10      14.0       5.2       9.4                 0.02  history\n",
      "3  2024-04-11      19.2      11.7      14.5                 0.09  history\n"
     ]
    }
   ],
   "execution_count": 24
  }
 ],
 "metadata": {
  "kernelspec": {
   "display_name": "Python 3",
   "language": "python",
   "name": "python3"
  },
  "language_info": {
   "codemirror_mode": {
    "name": "ipython",
    "version": 2
   },
   "file_extension": ".py",
   "mimetype": "text/x-python",
   "name": "python",
   "nbconvert_exporter": "python",
   "pygments_lexer": "ipython2",
   "version": "2.7.6"
  }
 },
 "nbformat": 4,
 "nbformat_minor": 5
}
