{
 "cells": [
  {
   "cell_type": "markdown",
   "source": [
    "## Weather API"
   ],
   "metadata": {
    "collapsed": false
   },
   "id": "80d775165a8da80c"
  },
  {
   "cell_type": "code",
   "source": [
    "from datetime import datetime\n",
    "import requests\n",
    "import json\n",
    "import config\n",
    "import pandas as pd"
   ],
   "metadata": {
    "collapsed": false,
    "ExecuteTime": {
     "end_time": "2024-04-09T14:58:18.240159Z",
     "start_time": "2024-04-09T14:58:18.236824Z"
    }
   },
   "id": "e0f9f053c6169209",
   "outputs": [],
   "execution_count": 363
  },
  {
   "cell_type": "code",
   "source": [
    "weather_api_key = config.api_key\n",
    "\n",
    "weather_test = requests.get(\"http://api.weatherapi.com/v1/current.json\", params={\"key\": weather_api_key, \"q\": \"London\"})\n",
    "weather_json_test = json.loads(weather_test.text)\n",
    "print(weather_json_test.get(\"current\").get(\"last_updated\"))"
   ],
   "metadata": {
    "collapsed": false,
    "ExecuteTime": {
     "end_time": "2024-04-09T14:58:18.305596Z",
     "start_time": "2024-04-09T14:58:18.251990Z"
    }
   },
   "id": "e0628e4daf3ea0ab",
   "outputs": [
    {
     "name": "stdout",
     "output_type": "stream",
     "text": [
      "2024-04-09 15:45\n"
     ]
    }
   ],
   "execution_count": 364
  },
  {
   "cell_type": "code",
   "source": [
    "def get_weather_data(location, wtype, interval, apikey):\n",
    "    columns = [\"date\", \"max_temp\", \"min_temp\", \"avg_temp\", \"total_precipitation\", \"type\"]\n",
    "    loc_lower = location.lower()\n",
    "    wtype_lower = wtype.lower()\n",
    "\n",
    "    params = {\"key\": apikey,\n",
    "              \"q\": loc_lower,\n",
    "              }\n",
    "\n",
    "    if wtype_lower == \"forecast\":\n",
    "        params[\"days\"] = interval\n",
    "        weather = requests.get(f\"https://api.weatherapi.com/v1/{wtype_lower}.json\", params=params)\n",
    "        weather_json = json.loads(weather.text)\n",
    "\n",
    "        weather_df = convert_weather_data_to_df(weather_json, columns)\n",
    "    elif wtype_lower == \"history\":\n",
    "        try:\n",
    "            datetime.strptime(interval, '%Y-%m-%d')\n",
    "            if interval < \"2010-01-01\":\n",
    "                raise ValueError(\"Date must be 2010-01-01 or later\")\n",
    "        except ValueError:\n",
    "            raise ValueError(\"Date must have the format yyyy-MM-dd\")\n",
    "        params[\"dt\"] = interval\n",
    "    \n",
    "        weather = requests.get(f\"https://api.weatherapi.com/v1/{wtype_lower}.json\", params=params)\n",
    "        weather_json = json.loads(weather.text)\n",
    "\n",
    "        weather_df = convert_weather_data_to_df(weather_json, columns)\n",
    "    else:\n",
    "        raise ValueError(\"Wrong weather type\")\n",
    "\n",
    "    return weather_df"
   ],
   "metadata": {
    "collapsed": false,
    "ExecuteTime": {
     "end_time": "2024-04-09T14:58:18.310577Z",
     "start_time": "2024-04-09T14:58:18.306600Z"
    }
   },
   "id": "d50742795c14ecf1",
   "outputs": [],
   "execution_count": 365
  },
  {
   "metadata": {
    "ExecuteTime": {
     "end_time": "2024-04-09T14:58:18.315160Z",
     "start_time": "2024-04-09T14:58:18.310577Z"
    }
   },
   "cell_type": "code",
   "source": [
    "def convert_weather_data_to_df(weather_json, columns):\n",
    "    if 'forecast' in weather_json and 'forecastday' in weather_json['forecast']:\n",
    "        history_data = weather_json['forecast']['forecastday']\n",
    "        weather_data = []\n",
    "        for history in history_data:\n",
    "            date = history['date']\n",
    "            max_temp = history['day']['maxtemp_c']\n",
    "            min_temp = history['day']['mintemp_c']\n",
    "            avg_temp = history['day']['avgtemp_c']\n",
    "            total_precipitation = history['day']['totalprecip_mm']\n",
    "            weather_type = history['day']['condition']['text']\n",
    "            weather_data.append([date, max_temp, min_temp, avg_temp, total_precipitation, weather_type])\n",
    "\n",
    "        return pd.DataFrame(weather_data, columns=columns)\n",
    "    else:\n",
    "        print(\"No forecast data found.\")"
   ],
   "id": "905c0ddb10cf007d",
   "outputs": [],
   "execution_count": 366
  },
  {
   "cell_type": "code",
   "source": "print(get_weather_data(\"LONDON\", \"FORECAST\", \"3\", weather_api_key))",
   "metadata": {
    "collapsed": false,
    "ExecuteTime": {
     "end_time": "2024-04-09T14:58:18.623283Z",
     "start_time": "2024-04-09T14:58:18.315160Z"
    }
   },
   "id": "717f198ef01d9885",
   "outputs": [
    {
     "name": "stdout",
     "output_type": "stream",
     "text": [
      "         date  max_temp  min_temp  avg_temp  total_precipitation  \\\n",
      "0  2024-04-09      11.5       6.8       8.8                 0.59   \n",
      "1  2024-04-10      14.0       5.0       9.3                 0.01   \n",
      "2  2024-04-11      15.1      11.5      13.4                 0.04   \n",
      "\n",
      "                 type  \n",
      "0  Patchy rain nearby  \n",
      "1           Overcast   \n",
      "2           Overcast   \n"
     ]
    }
   ],
   "execution_count": 367
  },
  {
   "cell_type": "code",
   "source": "print(get_weather_data(\"London\", \"History\", \"2024-04-03\", weather_api_key))",
   "metadata": {
    "collapsed": false,
    "ExecuteTime": {
     "end_time": "2024-04-09T14:58:18.978976Z",
     "start_time": "2024-04-09T14:58:18.623283Z"
    }
   },
   "id": "f34d327a698368a8",
   "outputs": [
    {
     "name": "stdout",
     "output_type": "stream",
     "text": [
      "         date  max_temp  min_temp  avg_temp  total_precipitation  \\\n",
      "0  2024-04-03      14.1       9.5      11.4                 2.94   \n",
      "\n",
      "                type  \n",
      "0  Light rain shower  \n"
     ]
    }
   ],
   "execution_count": 368
  }
 ],
 "metadata": {
  "kernelspec": {
   "display_name": "Python 3",
   "language": "python",
   "name": "python3"
  },
  "language_info": {
   "codemirror_mode": {
    "name": "ipython",
    "version": 2
   },
   "file_extension": ".py",
   "mimetype": "text/x-python",
   "name": "python",
   "nbconvert_exporter": "python",
   "pygments_lexer": "ipython2",
   "version": "2.7.6"
  }
 },
 "nbformat": 4,
 "nbformat_minor": 5
}
