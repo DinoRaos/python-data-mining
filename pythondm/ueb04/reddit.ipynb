{
 "cells": [
  {
   "metadata": {},
   "cell_type": "markdown",
   "source": "## Reddit Crawler",
   "id": "2dab710b0cfbaeff"
  },
  {
   "metadata": {},
   "cell_type": "markdown",
   "source": "## Config && praw ",
   "id": "18fa25e1d87c0fb2"
  },
  {
   "metadata": {
    "ExecuteTime": {
     "end_time": "2024-04-16T18:30:35.197091Z",
     "start_time": "2024-04-16T18:30:35.193070Z"
    }
   },
   "cell_type": "code",
   "source": [
    "import configparser\n",
    "import praw\n",
    "import pandas as pd\n",
    "import datetime"
   ],
   "id": "6e6cb229afcdfbec",
   "outputs": [],
   "execution_count": 167
  },
  {
   "metadata": {
    "ExecuteTime": {
     "end_time": "2024-04-16T18:30:35.201973Z",
     "start_time": "2024-04-16T18:30:35.198099Z"
    }
   },
   "cell_type": "code",
   "source": [
    "config = configparser.ConfigParser()\n",
    "config.read(\"config.properties\")\n",
    "client = config[\"reddit\"][\"reddit.client\"]\n",
    "client_secret = config[\"reddit\"][\"reddit.secret\"]\n",
    "user_agent = config[\"reddit\"][\"reddit.user_agent\"]\n",
    "\n",
    "red = praw.Reddit(client_id=client, client_secret=client_secret, user_agent=user_agent)\n",
    "\n",
    "# hot_posts = red.subreddit(\"europe\").hot(limit=3)\n",
    "# for post in hot_posts:\n",
    "#     print(post.id)\n",
    "#     print(post.title)\n",
    "#     print(post.url)\n",
    "#     print(post.selftext)\n"
   ],
   "id": "e296321ea4b1e1fe",
   "outputs": [],
   "execution_count": 168
  },
  {
   "metadata": {},
   "cell_type": "markdown",
   "source": "## Aufgabe 1.1",
   "id": "1d11c1856802e5ad"
  },
  {
   "metadata": {
    "ExecuteTime": {
     "end_time": "2024-04-16T18:30:35.207511Z",
     "start_time": "2024-04-16T18:30:35.202979Z"
    }
   },
   "cell_type": "code",
   "source": [
    "def get_subreddit_posts(subreddit, stype, slimit):\n",
    "    posts = []\n",
    "\n",
    "    if slimit > 10:\n",
    "        return \"A maximum of 10 posts may be gathered: \" + str(slimit)\n",
    "\n",
    "    if stype == \"hot\":\n",
    "        hposts = red.subreddit(subreddit).hot(limit=slimit)\n",
    "\n",
    "        for hpost in hposts:\n",
    "            id = hpost.id\n",
    "            title = hpost.title\n",
    "            text = hpost.selftext\n",
    "            posts.append([id, title, text])\n",
    "    elif stype == \"new\":\n",
    "        nposts = red.subreddit(subreddit).new(limit=slimit)\n",
    "\n",
    "        for npost in nposts:\n",
    "            id = npost.id\n",
    "            title = npost.title\n",
    "            text = npost.selftext\n",
    "            posts.append([id, title, text])\n",
    "    else:\n",
    "        return \"Please enter a valid subreddit type such as hot, new\"\n",
    "\n",
    "    return pd.DataFrame(posts, columns=[\"subreddit_id\", \"subreddit_title\", \"subreddit_text\"])"
   ],
   "id": "ceb36633206ab520",
   "outputs": [],
   "execution_count": 169
  },
  {
   "metadata": {
    "ExecuteTime": {
     "end_time": "2024-04-16T18:30:35.211690Z",
     "start_time": "2024-04-16T18:30:35.208027Z"
    }
   },
   "cell_type": "code",
   "source": [
    "print(get_subreddit_posts(\"europe\", \"hot\", 11))\n",
    "print(get_subreddit_posts(\"europe\", \"w\", 6))"
   ],
   "id": "60c18d4668827820",
   "outputs": [
    {
     "name": "stdout",
     "output_type": "stream",
     "text": [
      "A maximum of 10 posts may be gathered: 11\n",
      "Please enter a valid subreddit type such as hot, new\n"
     ]
    }
   ],
   "execution_count": 170
  },
  {
   "metadata": {
    "ExecuteTime": {
     "end_time": "2024-04-16T18:30:36.837870Z",
     "start_time": "2024-04-16T18:30:35.212695Z"
    }
   },
   "cell_type": "code",
   "source": "print(get_subreddit_posts(\"europe\", \"hot\", 3))",
   "id": "56c06a5851474135",
   "outputs": [
    {
     "name": "stdout",
     "output_type": "stream",
     "text": [
      "  subreddit_id                                    subreddit_title  \\\n",
      "0      1bkysju                 War in Ukraine Megathread LVI (57)   \n",
      "1      1as6y20    Moratorium on posts related to Israel-Palestine   \n",
      "2      1c5bk6k  Fire engulfs Copenhagen’s Old Stock Exchange i...   \n",
      "\n",
      "                                      subreddit_text  \n",
      "0  \\nThis megathread is meant for discussion of t...  \n",
      "1  r/europe is the prime subreddit to share and d...  \n",
      "2                                                     \n"
     ]
    }
   ],
   "execution_count": 171
  },
  {
   "metadata": {},
   "cell_type": "markdown",
   "source": "## Aufgabe 1.2",
   "id": "ac4cabecd9586aee"
  },
  {
   "metadata": {
    "ExecuteTime": {
     "end_time": "2024-04-16T18:30:37.851018Z",
     "start_time": "2024-04-16T18:30:36.838874Z"
    }
   },
   "cell_type": "code",
   "source": [
    "bundesliga_df = get_subreddit_posts(\"Bundesliga\", \"hot\", 10)\n",
    "bundesliga_df.to_csv(\"bundesliga.csv\", index=False)"
   ],
   "id": "6abbc66e405a1b87",
   "outputs": [],
   "execution_count": 172
  },
  {
   "metadata": {},
   "cell_type": "markdown",
   "source": "",
   "id": "3372c504fb1c77a9"
  },
  {
   "metadata": {},
   "cell_type": "markdown",
   "source": [
    "## Aufgabe 2\n",
    "## Aufgabe 2.1"
   ],
   "id": "e92ac0d01d0ee640"
  },
  {
   "metadata": {
    "ExecuteTime": {
     "end_time": "2024-04-16T18:30:37.855614Z",
     "start_time": "2024-04-16T18:30:37.852022Z"
    }
   },
   "cell_type": "code",
   "source": [
    "def get_subreddit_posts_comments(subreddit, stype, slimit):\n",
    "    all_comments = []\n",
    "    posts_df = get_subreddit_posts(subreddit, stype, slimit)\n",
    "    \n",
    "    for _, post in posts_df.iterrows():\n",
    "        post_id = post[\"subreddit_id\"]\n",
    "\n",
    "        post_obj = red.submission(id=post_id)\n",
    "        post_obj.comments.replace_more(limit=None)\n",
    "        comments = post_obj.comments.list()\n",
    "\n",
    "        for comment in comments:\n",
    "            subreddit_id = post[\"subreddit_id\"]\n",
    "            s_date = post_obj.created_utc\n",
    "            comment_id = comment.id\n",
    "            c_text = comment.body\n",
    "            c_upvote = comment.score\n",
    "            c_author = comment.author\n",
    "            c_date = comment.created_utc\n",
    "\n",
    "            all_comments.append([subreddit_id, s_date, comment_id, c_text, c_upvote, c_author, c_date])\n",
    "\n",
    "    df = pd.DataFrame(all_comments, columns=[\"subreddit_id\", \"s_date\", \"comment_id\", \"c_text\", \"c_upvote\", \"c_author\", \"c_date\"])\n",
    "    \n",
    "    return df"
   ],
   "id": "8c0f7c981ade87d",
   "outputs": [],
   "execution_count": 173
  },
  {
   "metadata": {
    "ExecuteTime": {
     "end_time": "2024-04-16T18:30:46.518101Z",
     "start_time": "2024-04-16T18:30:37.856622Z"
    }
   },
   "cell_type": "code",
   "source": "print(get_subreddit_posts_comments(\"Nachrichten\", \"hot\", 10))",
   "id": "ea9309d68d38ee23",
   "outputs": [
    {
     "name": "stdout",
     "output_type": "stream",
     "text": [
      "    subreddit_id        s_date comment_id  \\\n",
      "0        1977olb  1.705322e+09    kiqjz7n   \n",
      "1        1c4yquf  1.713218e+09    kzsbfrv   \n",
      "2        1c4qcrg  1.713198e+09    kzpp65o   \n",
      "3        1c4qcrg  1.713198e+09    kzpde3u   \n",
      "4        1c4qcrg  1.713198e+09    kzpowq8   \n",
      "..           ...           ...        ...   \n",
      "138      1c3vrv5  1.713107e+09    kznc4s8   \n",
      "139      1c3vrv5  1.713107e+09    kzncx8b   \n",
      "140      1c3vrv5  1.713107e+09    kzoed5u   \n",
      "141      1c3vrv5  1.713107e+09    kzoj672   \n",
      "142      1c2k6gt  1.712956e+09    kzcgb01   \n",
      "\n",
      "                                                c_text  c_upvote  \\\n",
      "0                                            Gerne PN!         1   \n",
      "1    Ich dachte alle fahren in der 10.\\n\\nDas war n...        54   \n",
      "2    Mehrheit für mehr Geld für Klimaschutz, Bundes...        27   \n",
      "3                                                  gut         8   \n",
      "4    Oder auch: Mehrheit glaubt, dass mehr Geld die...         2   \n",
      "..                                                 ...       ...   \n",
      "138  Ich habe einfach den nächsten Artikel gepostet...         0   \n",
      "139  Ich brauche keine Artikel dafür, weil ich steu...         2   \n",
      "140               Wieviele Accounts hast du eigentlich         0   \n",
      "141                                                  1         2   \n",
      "142  Es hätte mich gewundert wenn es kein prorussis...         6   \n",
      "\n",
      "              c_author        c_date  \n",
      "0        miriam-reddit  1.705758e+09  \n",
      "1              lexorix  1.713242e+09  \n",
      "2      Former_Star1081  1.713205e+09  \n",
      "3      Everlastingitch  1.713201e+09  \n",
      "4       peppercruncher  1.713205e+09  \n",
      "..                 ...           ...  \n",
      "138  Defiant_Cycle8643  1.713166e+09  \n",
      "139    Former_Star1081  1.713167e+09  \n",
      "140  Defiant_Cycle8643  1.713189e+09  \n",
      "141    Former_Star1081  1.713190e+09  \n",
      "142  Henning-the-great  1.712986e+09  \n",
      "\n",
      "[143 rows x 7 columns]\n"
     ]
    }
   ],
   "execution_count": 174
  },
  {
   "metadata": {},
   "cell_type": "markdown",
   "source": "## Aufgabe 2.2",
   "id": "5aff3041731609a8"
  },
  {
   "metadata": {
    "ExecuteTime": {
     "end_time": "2024-04-16T18:30:46.521428Z",
     "start_time": "2024-04-16T18:30:46.518101Z"
    }
   },
   "cell_type": "code",
   "source": [
    "def convert_utc_to_datetime(utc_date):    \n",
    "    return datetime.date.fromtimestamp(utc_date)"
   ],
   "id": "803fdfb36ca84491",
   "outputs": [],
   "execution_count": 175
  },
  {
   "metadata": {},
   "cell_type": "markdown",
   "source": "## Aufgabe 2.3",
   "id": "a228785beb8bc2a9"
  },
  {
   "metadata": {
    "ExecuteTime": {
     "end_time": "2024-04-16T18:30:58.742610Z",
     "start_time": "2024-04-16T18:30:46.521428Z"
    }
   },
   "cell_type": "code",
   "source": [
    "df_datetime = get_subreddit_posts_comments(\"Nachrichten\", \"hot\", 10)\n",
    "\n",
    "df_datetime[\"s_date\"] = df_datetime[\"s_date\"].apply(convert_utc_to_datetime)\n",
    "df_datetime[\"c_date\"] = df_datetime[\"c_date\"].apply(convert_utc_to_datetime)\n",
    "\n",
    "print(df_datetime)"
   ],
   "id": "c7bd90923488bafd",
   "outputs": [
    {
     "name": "stdout",
     "output_type": "stream",
     "text": [
      "    subreddit_id      s_date comment_id  \\\n",
      "0        1977olb  2024-01-15    kiqjz7n   \n",
      "1        1c4yquf  2024-04-15    kzsbfrv   \n",
      "2        1c4qcrg  2024-04-15    kzpp65o   \n",
      "3        1c4qcrg  2024-04-15    kzpde3u   \n",
      "4        1c4qcrg  2024-04-15    kzpowq8   \n",
      "..           ...         ...        ...   \n",
      "138      1c3vrv5  2024-04-14    kznc4s8   \n",
      "139      1c3vrv5  2024-04-14    kzncx8b   \n",
      "140      1c3vrv5  2024-04-14    kzoed5u   \n",
      "141      1c3vrv5  2024-04-14    kzoj672   \n",
      "142      1c2k6gt  2024-04-12    kzcgb01   \n",
      "\n",
      "                                                c_text  c_upvote  \\\n",
      "0                                            Gerne PN!         1   \n",
      "1    Ich dachte alle fahren in der 10.\\n\\nDas war n...        53   \n",
      "2    Mehrheit für mehr Geld für Klimaschutz, Bundes...        24   \n",
      "3                                                  gut         8   \n",
      "4    Oder auch: Mehrheit glaubt, dass mehr Geld die...         3   \n",
      "..                                                 ...       ...   \n",
      "138  Ich habe einfach den nächsten Artikel gepostet...         0   \n",
      "139  Ich brauche keine Artikel dafür, weil ich steu...         2   \n",
      "140               Wieviele Accounts hast du eigentlich         0   \n",
      "141                                                  1         2   \n",
      "142  Es hätte mich gewundert wenn es kein prorussis...         5   \n",
      "\n",
      "              c_author      c_date  \n",
      "0        miriam-reddit  2024-01-20  \n",
      "1              lexorix  2024-04-16  \n",
      "2      Former_Star1081  2024-04-15  \n",
      "3      Everlastingitch  2024-04-15  \n",
      "4       peppercruncher  2024-04-15  \n",
      "..                 ...         ...  \n",
      "138  Defiant_Cycle8643  2024-04-15  \n",
      "139    Former_Star1081  2024-04-15  \n",
      "140  Defiant_Cycle8643  2024-04-15  \n",
      "141    Former_Star1081  2024-04-15  \n",
      "142  Henning-the-great  2024-04-13  \n",
      "\n",
      "[143 rows x 7 columns]\n"
     ]
    }
   ],
   "execution_count": 176
  },
  {
   "metadata": {},
   "cell_type": "markdown",
   "source": "## Aufgabe 2.4",
   "id": "b03d9f60642dd7bf"
  },
  {
   "metadata": {
    "ExecuteTime": {
     "end_time": "2024-04-16T18:30:58.748123Z",
     "start_time": "2024-04-16T18:30:58.742610Z"
    }
   },
   "cell_type": "code",
   "source": "df_datetime.to_csv(\"df_datetime.csv\", index=True)",
   "id": "6bf5f57203a85d5b",
   "outputs": [],
   "execution_count": 177
  },
  {
   "metadata": {},
   "cell_type": "markdown",
   "source": "## Aufgabe 3",
   "id": "7c30b460b544f2f8"
  },
  {
   "metadata": {},
   "cell_type": "code",
   "outputs": [],
   "execution_count": null,
   "source": "",
   "id": "8d72f6a04f3c3f6d"
  },
  {
   "metadata": {},
   "cell_type": "markdown",
   "source": "## Aufgabe 4",
   "id": "fdb6af84d3eb5c4f"
  }
 ],
 "metadata": {
  "kernelspec": {
   "display_name": "Python 3",
   "language": "python",
   "name": "python3"
  },
  "language_info": {
   "codemirror_mode": {
    "name": "ipython",
    "version": 2
   },
   "file_extension": ".py",
   "mimetype": "text/x-python",
   "name": "python",
   "nbconvert_exporter": "python",
   "pygments_lexer": "ipython2",
   "version": "2.7.6"
  }
 },
 "nbformat": 4,
 "nbformat_minor": 5
}
