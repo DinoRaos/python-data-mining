{
 "cells": [
  {
   "cell_type": "code",
   "id": "2c1a4ef9-3448-49dc-b118-0b89f7984079",
   "metadata": {
    "ExecuteTime": {
     "end_time": "2024-04-17T12:39:18.677442Z",
     "start_time": "2024-04-17T12:39:18.674253Z"
    }
   },
   "source": [
    "## Reddit Crawler"
   ],
   "outputs": [],
   "execution_count": 64
  },
  {
   "cell_type": "markdown",
   "id": "18fa25e1d87c0fb2",
   "metadata": {},
   "source": [
    "## Config && praw "
   ]
  },
  {
   "cell_type": "code",
   "id": "6e6cb229afcdfbec",
   "metadata": {
    "ExecuteTime": {
     "end_time": "2024-04-17T12:39:18.733338Z",
     "start_time": "2024-04-17T12:39:18.730182Z"
    }
   },
   "source": [
    "import configparser\n",
    "import praw\n",
    "import pandas as pd\n",
    "import datetime"
   ],
   "outputs": [],
   "execution_count": 65
  },
  {
   "cell_type": "code",
   "id": "e296321ea4b1e1fe",
   "metadata": {
    "ExecuteTime": {
     "end_time": "2024-04-17T12:39:18.752642Z",
     "start_time": "2024-04-17T12:39:18.747813Z"
    }
   },
   "source": [
    "config = configparser.ConfigParser()\n",
    "config.read(\"config.properties\")\n",
    "client = config[\"reddit\"][\"reddit.client\"]\n",
    "client_secret = config[\"reddit\"][\"reddit.secret\"]\n",
    "user_agent = config[\"reddit\"][\"reddit.user_agent\"]\n",
    "\n",
    "red = praw.Reddit(client_id=client, client_secret=client_secret, user_agent=user_agent)\n",
    "\n",
    "# hot_posts = red.subreddit(\"europe\").hot(limit=3)\n",
    "# for post in hot_posts:\n",
    "#     print(post.id)\n",
    "#     print(post.title)\n",
    "#     print(post.url)\n",
    "#     print(post.selftext)\n"
   ],
   "outputs": [],
   "execution_count": 66
  },
  {
   "cell_type": "markdown",
   "id": "1d11c1856802e5ad",
   "metadata": {},
   "source": [
    "## Aufgabe 1.1"
   ]
  },
  {
   "cell_type": "code",
   "id": "ceb36633206ab520",
   "metadata": {
    "ExecuteTime": {
     "end_time": "2024-04-17T12:39:18.760670Z",
     "start_time": "2024-04-17T12:39:18.754649Z"
    }
   },
   "source": [
    "def get_subreddit_posts(subreddit, stype, slimit):\n",
    "    posts = []\n",
    "\n",
    "    if slimit > 10:\n",
    "        return \"A maximum of 10 posts may be gathered: \" + str(slimit)\n",
    "\n",
    "    if stype == \"hot\":\n",
    "        hposts = red.subreddit(subreddit).hot(limit=slimit)\n",
    "\n",
    "        for hpost in hposts:\n",
    "            id = hpost.id\n",
    "            title = hpost.title\n",
    "            text = hpost.selftext\n",
    "            posts.append([id, title, text])\n",
    "    elif stype == \"new\":\n",
    "        nposts = red.subreddit(subreddit).new(limit=slimit)\n",
    "\n",
    "        for npost in nposts:\n",
    "            id = npost.id\n",
    "            title = npost.title\n",
    "            text = npost.selftext\n",
    "            posts.append([id, title, text])\n",
    "    else:\n",
    "        return \"Please enter a valid subreddit type such as hot, new\"\n",
    "\n",
    "    return pd.DataFrame(posts, columns=[\"subreddit_id\", \"subreddit_title\", \"subreddit_text\"])"
   ],
   "outputs": [],
   "execution_count": 67
  },
  {
   "cell_type": "code",
   "id": "60c18d4668827820",
   "metadata": {
    "ExecuteTime": {
     "end_time": "2024-04-17T12:39:18.769275Z",
     "start_time": "2024-04-17T12:39:18.765679Z"
    }
   },
   "source": [
    "print(get_subreddit_posts(\"europe\", \"hot\", 11))\n",
    "print(get_subreddit_posts(\"europe\", \"w\", 6))"
   ],
   "outputs": [
    {
     "name": "stdout",
     "output_type": "stream",
     "text": [
      "A maximum of 10 posts may be gathered: 11\n",
      "Please enter a valid subreddit type such as hot, new\n"
     ]
    }
   ],
   "execution_count": 68
  },
  {
   "cell_type": "code",
   "id": "56c06a5851474135",
   "metadata": {
    "ExecuteTime": {
     "end_time": "2024-04-17T12:39:19.747067Z",
     "start_time": "2024-04-17T12:39:18.780819Z"
    }
   },
   "source": [
    "print(get_subreddit_posts(\"europe\", \"hot\", 3))"
   ],
   "outputs": [
    {
     "name": "stdout",
     "output_type": "stream",
     "text": [
      "  subreddit_id                     subreddit_title  \\\n",
      "0      1bkysju  War in Ukraine Megathread LVI (57)   \n",
      "1      1c63g6b     Croatian parliamentary election   \n",
      "2      1c623ia              A protester in Tbilisi   \n",
      "\n",
      "                                      subreddit_text  \n",
      "0  \\nThis megathread is meant for discussion of t...  \n",
      "1  Today (April 17th) citizens of Croatia go to p...  \n",
      "2                                                     \n"
     ]
    }
   ],
   "execution_count": 69
  },
  {
   "cell_type": "markdown",
   "id": "ac4cabecd9586aee",
   "metadata": {},
   "source": [
    "## Aufgabe 1.2"
   ]
  },
  {
   "cell_type": "code",
   "id": "6abbc66e405a1b87",
   "metadata": {
    "ExecuteTime": {
     "end_time": "2024-04-17T12:39:20.081360Z",
     "start_time": "2024-04-17T12:39:19.749305Z"
    }
   },
   "source": [
    "bundesliga_df = get_subreddit_posts(\"Bundesliga\", \"hot\", 10)\n",
    "bundesliga_df.to_csv(\"bundesliga.csv\", index=False)"
   ],
   "outputs": [],
   "execution_count": 70
  },
  {
   "cell_type": "markdown",
   "id": "3372c504fb1c77a9",
   "metadata": {},
   "source": []
  },
  {
   "cell_type": "markdown",
   "id": "e92ac0d01d0ee640",
   "metadata": {},
   "source": [
    "## Aufgabe 2\n",
    "## Aufgabe 2.1"
   ]
  },
  {
   "cell_type": "code",
   "id": "8c0f7c981ade87d",
   "metadata": {
    "ExecuteTime": {
     "end_time": "2024-04-17T12:39:20.088189Z",
     "start_time": "2024-04-17T12:39:20.082377Z"
    }
   },
   "source": [
    "def get_subreddit_posts_comments(subreddit, stype, slimit):\n",
    "    all_comments = []\n",
    "    posts_df = get_subreddit_posts(subreddit, stype, slimit)\n",
    "\n",
    "    for _, post in posts_df.iterrows():\n",
    "        post_id = post[\"subreddit_id\"]\n",
    "\n",
    "        post_obj = red.submission(id=post_id)\n",
    "        post_obj.comments.replace_more(limit=None)\n",
    "        comments = post_obj.comments.list()\n",
    "\n",
    "        for comment in comments:\n",
    "            subreddit_id = post[\"subreddit_id\"]\n",
    "            s_date = post_obj.created_utc\n",
    "            comment_id = comment.id\n",
    "            c_text = comment.body\n",
    "            c_upvote = comment.score\n",
    "            c_author = comment.author\n",
    "            c_date = comment.created_utc\n",
    "\n",
    "            all_comments.append([subreddit_id, s_date, comment_id, c_text, c_upvote, c_author, c_date])\n",
    "\n",
    "    df = pd.DataFrame(all_comments,\n",
    "                      columns=[\"subreddit_id\", \"s_date\", \"comment_id\", \"c_text\", \"c_upvote\", \"c_author\", \"c_date\"])\n",
    "\n",
    "    return df"
   ],
   "outputs": [],
   "execution_count": 71
  },
  {
   "cell_type": "code",
   "id": "ea9309d68d38ee23",
   "metadata": {
    "ExecuteTime": {
     "end_time": "2024-04-17T12:39:23.407564Z",
     "start_time": "2024-04-17T12:39:20.090198Z"
    }
   },
   "source": [
    "print(get_subreddit_posts_comments(\"Nachrichten\", \"hot\", 10))"
   ],
   "outputs": [
    {
     "name": "stdout",
     "output_type": "stream",
     "text": [
      "    subreddit_id        s_date comment_id  \\\n",
      "0        1977olb  1.705322e+09    kiqjz7n   \n",
      "1        1c65xfk  1.713348e+09    kzyq8tl   \n",
      "2        1c65xfk  1.713348e+09    kzz5fgv   \n",
      "3        1c65xfk  1.713348e+09    kzytjdz   \n",
      "4        1c65xfk  1.713348e+09    kzyr4mm   \n",
      "..           ...           ...        ...   \n",
      "174      1c3qxb5  1.713092e+09    kzop7or   \n",
      "175      1c3qxb5  1.713092e+09    kzjfdzn   \n",
      "176      1c3qxb5  1.713092e+09    kznhdmx   \n",
      "177      1c3qxb5  1.713092e+09    kznm18i   \n",
      "178      1c3qxb5  1.713092e+09    kznn5g1   \n",
      "\n",
      "                                                c_text  c_upvote  \\\n",
      "0                                            Gerne PN!         1   \n",
      "1    > **Behörden haben den ehemaligen griechischen...         9   \n",
      "2    Ach in welcher schönen Zeit wir leben wo die g...         3   \n",
      "3    Schade, dass das nich auch schon ginger also e...        -5   \n",
      "4                                            [removed]       -30   \n",
      "..                                                 ...       ...   \n",
      "174                       multikulti bereicherung halt         1   \n",
      "175                                          [removed]         1   \n",
      "176                    Wie schaffen sie Demokratie ab?         1   \n",
      "177  Naja wenn du den Kontext erwähnst dann muss ma...         0   \n",
      "178  >Naja wenn du den Kontext erwähnst dann muss m...         1   \n",
      "\n",
      "                 c_author        c_date  \n",
      "0           miriam-reddit  1.705758e+09  \n",
      "1             goto-reddit  1.713348e+09  \n",
      "2        cyberPolecat5000  1.713356e+09  \n",
      "3    bingobongokongolongo  1.713350e+09  \n",
      "4                    None  1.713349e+09  \n",
      "..                    ...           ...  \n",
      "174         GaLiGrueGoeGa  1.713193e+09  \n",
      "175                  None  1.713106e+09  \n",
      "176         CourageKey747  1.713170e+09  \n",
      "177        SoySorcerer161  1.713174e+09  \n",
      "178        NilsvonDomarus  1.713174e+09  \n",
      "\n",
      "[179 rows x 7 columns]\n"
     ]
    }
   ],
   "execution_count": 72
  },
  {
   "cell_type": "markdown",
   "id": "5aff3041731609a8",
   "metadata": {},
   "source": [
    "## Aufgabe 2.2"
   ]
  },
  {
   "cell_type": "code",
   "id": "803fdfb36ca84491",
   "metadata": {
    "ExecuteTime": {
     "end_time": "2024-04-17T12:39:23.411535Z",
     "start_time": "2024-04-17T12:39:23.408575Z"
    }
   },
   "source": [
    "def convert_utc_to_datetime(utc_date):\n",
    "    return datetime.date.fromtimestamp(utc_date)"
   ],
   "outputs": [],
   "execution_count": 73
  },
  {
   "cell_type": "markdown",
   "id": "a228785beb8bc2a9",
   "metadata": {},
   "source": [
    "## Aufgabe 2.3"
   ]
  },
  {
   "cell_type": "code",
   "id": "c7bd90923488bafd",
   "metadata": {
    "ExecuteTime": {
     "end_time": "2024-04-17T12:39:27.095331Z",
     "start_time": "2024-04-17T12:39:23.412544Z"
    }
   },
   "source": [
    "df_datetime = get_subreddit_posts_comments(\"Nachrichten\", \"hot\", 10)\n",
    "\n",
    "df_datetime[\"s_date\"] = df_datetime[\"s_date\"].apply(convert_utc_to_datetime)\n",
    "df_datetime[\"c_date\"] = df_datetime[\"c_date\"].apply(convert_utc_to_datetime)\n",
    "\n",
    "print(df_datetime)"
   ],
   "outputs": [
    {
     "name": "stdout",
     "output_type": "stream",
     "text": [
      "    subreddit_id      s_date comment_id  \\\n",
      "0        1977olb  2024-01-15    kiqjz7n   \n",
      "1        1c65xfk  2024-04-17    kzyq8tl   \n",
      "2        1c65xfk  2024-04-17    kzz5fgv   \n",
      "3        1c65xfk  2024-04-17    kzytjdz   \n",
      "4        1c65xfk  2024-04-17    kzyr4mm   \n",
      "..           ...         ...        ...   \n",
      "174      1c3qxb5  2024-04-14    kzop7or   \n",
      "175      1c3qxb5  2024-04-14    kzjfdzn   \n",
      "176      1c3qxb5  2024-04-14    kznhdmx   \n",
      "177      1c3qxb5  2024-04-14    kznm18i   \n",
      "178      1c3qxb5  2024-04-14    kznn5g1   \n",
      "\n",
      "                                                c_text  c_upvote  \\\n",
      "0                                            Gerne PN!         1   \n",
      "1    > **Behörden haben den ehemaligen griechischen...         7   \n",
      "2    Ach in welcher schönen Zeit wir leben wo die g...         3   \n",
      "3    Schade, dass das nich auch schon ginger also e...        -4   \n",
      "4                                            [removed]       -30   \n",
      "..                                                 ...       ...   \n",
      "174                       multikulti bereicherung halt         1   \n",
      "175                                          [removed]         1   \n",
      "176                    Wie schaffen sie Demokratie ab?         1   \n",
      "177  Naja wenn du den Kontext erwähnst dann muss ma...         0   \n",
      "178  >Naja wenn du den Kontext erwähnst dann muss m...         1   \n",
      "\n",
      "                 c_author      c_date  \n",
      "0           miriam-reddit  2024-01-20  \n",
      "1             goto-reddit  2024-04-17  \n",
      "2        cyberPolecat5000  2024-04-17  \n",
      "3    bingobongokongolongo  2024-04-17  \n",
      "4                    None  2024-04-17  \n",
      "..                    ...         ...  \n",
      "174         GaLiGrueGoeGa  2024-04-15  \n",
      "175                  None  2024-04-14  \n",
      "176         CourageKey747  2024-04-15  \n",
      "177        SoySorcerer161  2024-04-15  \n",
      "178        NilsvonDomarus  2024-04-15  \n",
      "\n",
      "[179 rows x 7 columns]\n"
     ]
    }
   ],
   "execution_count": 74
  },
  {
   "cell_type": "markdown",
   "id": "b03d9f60642dd7bf",
   "metadata": {},
   "source": [
    "## Aufgabe 2.4"
   ]
  },
  {
   "cell_type": "code",
   "id": "6bf5f57203a85d5b",
   "metadata": {
    "ExecuteTime": {
     "end_time": "2024-04-17T12:39:27.108101Z",
     "start_time": "2024-04-17T12:39:27.096338Z"
    }
   },
   "source": [
    "df_datetime.to_csv(\"df_datetime.csv\", index=True)"
   ],
   "outputs": [],
   "execution_count": 75
  },
  {
   "cell_type": "markdown",
   "id": "7c30b460b544f2f8",
   "metadata": {},
   "source": [
    "## Aufgabe 3"
   ]
  },
  {
   "cell_type": "code",
   "id": "8d72f6a04f3c3f6d",
   "metadata": {
    "ExecuteTime": {
     "end_time": "2024-04-17T12:39:27.123572Z",
     "start_time": "2024-04-17T12:39:27.110108Z"
    }
   },
   "source": [
    "def calc_comments_length(df, col_name):\n",
    "    df['n_letters'] = df[col_name].apply(len)\n",
    "    return df\n",
    "\n",
    "\n",
    "df = pd.read_csv(\"df_datetime.csv\")\n",
    "\n",
    "extended_df = calc_comments_length(df, 'c_text')\n",
    "print(extended_df)"
   ],
   "outputs": [
    {
     "name": "stdout",
     "output_type": "stream",
     "text": [
      "     Unnamed: 0 subreddit_id      s_date comment_id  \\\n",
      "0             0      1977olb  2024-01-15    kiqjz7n   \n",
      "1             1      1c65xfk  2024-04-17    kzyq8tl   \n",
      "2             2      1c65xfk  2024-04-17    kzz5fgv   \n",
      "3             3      1c65xfk  2024-04-17    kzytjdz   \n",
      "4             4      1c65xfk  2024-04-17    kzyr4mm   \n",
      "..          ...          ...         ...        ...   \n",
      "174         174      1c3qxb5  2024-04-14    kzop7or   \n",
      "175         175      1c3qxb5  2024-04-14    kzjfdzn   \n",
      "176         176      1c3qxb5  2024-04-14    kznhdmx   \n",
      "177         177      1c3qxb5  2024-04-14    kznm18i   \n",
      "178         178      1c3qxb5  2024-04-14    kznn5g1   \n",
      "\n",
      "                                                c_text  c_upvote  \\\n",
      "0                                            Gerne PN!         1   \n",
      "1    > **Behörden haben den ehemaligen griechischen...         7   \n",
      "2    Ach in welcher schönen Zeit wir leben wo die g...         3   \n",
      "3    Schade, dass das nich auch schon ginger also e...        -4   \n",
      "4                                            [removed]       -30   \n",
      "..                                                 ...       ...   \n",
      "174                       multikulti bereicherung halt         1   \n",
      "175                                          [removed]         1   \n",
      "176                    Wie schaffen sie Demokratie ab?         1   \n",
      "177  Naja wenn du den Kontext erwähnst dann muss ma...         0   \n",
      "178  >Naja wenn du den Kontext erwähnst dann muss m...         1   \n",
      "\n",
      "                 c_author      c_date  n_letters  \n",
      "0           miriam-reddit  2024-01-20          9  \n",
      "1             goto-reddit  2024-04-17        557  \n",
      "2        cyberPolecat5000  2024-04-17        278  \n",
      "3    bingobongokongolongo  2024-04-17         66  \n",
      "4                     NaN  2024-04-17          9  \n",
      "..                    ...         ...        ...  \n",
      "174         GaLiGrueGoeGa  2024-04-15         28  \n",
      "175                   NaN  2024-04-14          9  \n",
      "176         CourageKey747  2024-04-15         31  \n",
      "177        SoySorcerer161  2024-04-15        710  \n",
      "178        NilsvonDomarus  2024-04-15       1627  \n",
      "\n",
      "[179 rows x 9 columns]\n"
     ]
    }
   ],
   "execution_count": 76
  },
  {
   "cell_type": "markdown",
   "id": "fdb6af84d3eb5c4f",
   "metadata": {},
   "source": [
    "## Aufgabe 4"
   ]
  },
  {
   "cell_type": "code",
   "id": "37aea8c636bc7fb5",
   "metadata": {
    "ExecuteTime": {
     "end_time": "2024-04-17T12:39:27.139436Z",
     "start_time": "2024-04-17T12:39:27.124582Z"
    }
   },
   "source": [
    "def calculate_comment_activity(df, post_date_col, comment_date_col):\n",
    "    df[post_date_col] = pd.to_datetime(df[post_date_col])\n",
    "    df[comment_date_col] = pd.to_datetime(df[comment_date_col])\n",
    "    \n",
    "    df['days_since_post'] = (df[comment_date_col] - df[post_date_col]).dt.days\n",
    "\n",
    "    comment_activity = df['days_since_post'].value_counts().sort_index()\n",
    "    \n",
    "    output_df = pd.DataFrame({'counts': comment_activity})\n",
    "    output_df.index.name = 'days'\n",
    "\n",
    "    return output_df\n",
    "\n",
    "comment_activity = calculate_comment_activity(df, 's_date', 'c_date')\n",
    "print(comment_activity)"
   ],
   "outputs": [
    {
     "name": "stdout",
     "output_type": "stream",
     "text": [
      "      counts\n",
      "days        \n",
      "0         67\n",
      "1        104\n",
      "2          7\n",
      "5          1\n"
     ]
    }
   ],
   "execution_count": 77
  }
 ],
 "metadata": {
  "kernelspec": {
   "display_name": "Python 3 (ipykernel)",
   "language": "python",
   "name": "python3"
  },
  "language_info": {
   "codemirror_mode": {
    "name": "ipython",
    "version": 3
   },
   "file_extension": ".py",
   "mimetype": "text/x-python",
   "name": "python",
   "nbconvert_exporter": "python",
   "pygments_lexer": "ipython3",
   "version": "3.12.0"
  }
 },
 "nbformat": 4,
 "nbformat_minor": 5
}
