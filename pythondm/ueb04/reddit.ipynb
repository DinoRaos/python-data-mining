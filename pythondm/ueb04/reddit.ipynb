{
 "cells": [
  {
   "cell_type": "code",
   "id": "2c1a4ef9-3448-49dc-b118-0b89f7984079",
   "metadata": {
    "ExecuteTime": {
     "end_time": "2024-04-17T13:40:33.033221Z",
     "start_time": "2024-04-17T13:40:33.028971Z"
    }
   },
   "source": [
    "## Reddit Crawler"
   ],
   "outputs": [],
   "execution_count": 1
  },
  {
   "cell_type": "markdown",
   "id": "18fa25e1d87c0fb2",
   "metadata": {},
   "source": [
    "## Config && praw "
   ]
  },
  {
   "cell_type": "code",
   "id": "6e6cb229afcdfbec",
   "metadata": {
    "ExecuteTime": {
     "end_time": "2024-04-17T13:40:33.576034Z",
     "start_time": "2024-04-17T13:40:33.046273Z"
    }
   },
   "source": [
    "import configparser\n",
    "import praw\n",
    "import pandas as pd\n",
    "import datetime"
   ],
   "outputs": [],
   "execution_count": 2
  },
  {
   "cell_type": "code",
   "id": "e296321ea4b1e1fe",
   "metadata": {
    "ExecuteTime": {
     "end_time": "2024-04-17T13:40:33.930811Z",
     "start_time": "2024-04-17T13:40:33.577047Z"
    }
   },
   "source": [
    "config = configparser.ConfigParser()\n",
    "config.read(\"config.properties\")\n",
    "client = config[\"reddit\"][\"reddit.client\"]\n",
    "client_secret = config[\"reddit\"][\"reddit.secret\"]\n",
    "user_agent = config[\"reddit\"][\"reddit.user_agent\"]\n",
    "\n",
    "red = praw.Reddit(client_id=client, client_secret=client_secret, user_agent=user_agent)\n",
    "\n",
    "# hot_posts = red.subreddit(\"europe\").hot(limit=3)\n",
    "# for post in hot_posts:\n",
    "#     print(post.id)\n",
    "#     print(post.title)\n",
    "#     print(post.url)\n",
    "#     print(post.selftext)\n"
   ],
   "outputs": [],
   "execution_count": 3
  },
  {
   "cell_type": "markdown",
   "id": "1d11c1856802e5ad",
   "metadata": {},
   "source": [
    "## Aufgabe 1.1"
   ]
  },
  {
   "cell_type": "code",
   "id": "ceb36633206ab520",
   "metadata": {
    "ExecuteTime": {
     "end_time": "2024-04-17T13:40:33.937250Z",
     "start_time": "2024-04-17T13:40:33.931820Z"
    }
   },
   "source": [
    "def get_subreddit_posts(subreddit, stype, slimit):\n",
    "    posts = []\n",
    "\n",
    "    if slimit > 10:\n",
    "        return \"A maximum of 10 posts may be gathered: \" + str(slimit)\n",
    "\n",
    "    if stype == \"hot\":\n",
    "        hposts = red.subreddit(subreddit).hot(limit=slimit)\n",
    "\n",
    "        for hpost in hposts:\n",
    "            id = hpost.id\n",
    "            title = hpost.title\n",
    "            text = hpost.selftext\n",
    "            posts.append([id, title, text])\n",
    "    elif stype == \"new\":\n",
    "        nposts = red.subreddit(subreddit).new(limit=slimit)\n",
    "\n",
    "        for npost in nposts:\n",
    "            id = npost.id\n",
    "            title = npost.title\n",
    "            text = npost.selftext\n",
    "            posts.append([id, title, text])\n",
    "    else:\n",
    "        return \"Please enter a valid subreddit type such as hot, new\"\n",
    "\n",
    "    return pd.DataFrame(posts, columns=[\"subreddit_id\", \"subreddit_title\", \"subreddit_text\"])"
   ],
   "outputs": [],
   "execution_count": 4
  },
  {
   "cell_type": "code",
   "id": "60c18d4668827820",
   "metadata": {
    "ExecuteTime": {
     "end_time": "2024-04-17T13:40:33.944055Z",
     "start_time": "2024-04-17T13:40:33.939261Z"
    }
   },
   "source": [
    "print(get_subreddit_posts(\"europe\", \"hot\", 11))\n",
    "print(get_subreddit_posts(\"europe\", \"w\", 6))"
   ],
   "outputs": [
    {
     "name": "stdout",
     "output_type": "stream",
     "text": [
      "A maximum of 10 posts may be gathered: 11\n",
      "Please enter a valid subreddit type such as hot, new\n"
     ]
    }
   ],
   "execution_count": 5
  },
  {
   "cell_type": "code",
   "id": "56c06a5851474135",
   "metadata": {
    "ExecuteTime": {
     "end_time": "2024-04-17T13:40:34.994201Z",
     "start_time": "2024-04-17T13:40:33.945064Z"
    }
   },
   "source": [
    "print(get_subreddit_posts(\"europe\", \"hot\", 3))"
   ],
   "outputs": [
    {
     "name": "stdout",
     "output_type": "stream",
     "text": [
      "  subreddit_id                     subreddit_title  \\\n",
      "0      1bkysju  War in Ukraine Megathread LVI (57)   \n",
      "1      1c63g6b     Croatian parliamentary election   \n",
      "2      1c623ia              A protester in Tbilisi   \n",
      "\n",
      "                                      subreddit_text  \n",
      "0  \\nThis megathread is meant for discussion of t...  \n",
      "1  Today (April 17th) citizens of Croatia go to p...  \n",
      "2                                                     \n"
     ]
    }
   ],
   "execution_count": 6
  },
  {
   "cell_type": "markdown",
   "id": "ac4cabecd9586aee",
   "metadata": {},
   "source": [
    "## Aufgabe 1.2"
   ]
  },
  {
   "cell_type": "code",
   "id": "6abbc66e405a1b87",
   "metadata": {
    "ExecuteTime": {
     "end_time": "2024-04-17T13:40:35.490671Z",
     "start_time": "2024-04-17T13:40:34.995208Z"
    }
   },
   "source": [
    "bundesliga_df = get_subreddit_posts(\"Bundesliga\", \"hot\", 10)\n",
    "bundesliga_df.to_csv(\"bundesliga.csv\", index=False)"
   ],
   "outputs": [],
   "execution_count": 7
  },
  {
   "cell_type": "markdown",
   "id": "3372c504fb1c77a9",
   "metadata": {},
   "source": []
  },
  {
   "cell_type": "markdown",
   "id": "e92ac0d01d0ee640",
   "metadata": {},
   "source": [
    "## Aufgabe 2\n",
    "## Aufgabe 2.1"
   ]
  },
  {
   "cell_type": "code",
   "id": "8c0f7c981ade87d",
   "metadata": {
    "ExecuteTime": {
     "end_time": "2024-04-17T13:40:35.496874Z",
     "start_time": "2024-04-17T13:40:35.491676Z"
    }
   },
   "source": [
    "def get_subreddit_posts_comments(subreddit, stype, slimit):\n",
    "    all_comments = []\n",
    "    posts_df = get_subreddit_posts(subreddit, stype, slimit)\n",
    "\n",
    "    for _, post in posts_df.iterrows():\n",
    "        post_id = post[\"subreddit_id\"]\n",
    "\n",
    "        post_obj = red.submission(id=post_id)\n",
    "        post_obj.comments.replace_more(limit=None)\n",
    "        comments = post_obj.comments.list()\n",
    "\n",
    "        for comment in comments:\n",
    "            subreddit_id = post[\"subreddit_id\"]\n",
    "            s_date = post_obj.created_utc\n",
    "            comment_id = comment.id\n",
    "            c_text = comment.body\n",
    "            c_upvote = comment.score\n",
    "            c_author = comment.author\n",
    "            c_date = comment.created_utc\n",
    "\n",
    "            all_comments.append([subreddit_id, s_date, comment_id, c_text, c_upvote, c_author, c_date])\n",
    "\n",
    "    df = pd.DataFrame(all_comments,\n",
    "                      columns=[\"subreddit_id\", \"s_date\", \"comment_id\", \"c_text\", \"c_upvote\", \"c_author\", \"c_date\"])\n",
    "\n",
    "    return df"
   ],
   "outputs": [],
   "execution_count": 8
  },
  {
   "cell_type": "code",
   "id": "ea9309d68d38ee23",
   "metadata": {
    "ExecuteTime": {
     "end_time": "2024-04-17T13:40:39.301524Z",
     "start_time": "2024-04-17T13:40:35.497882Z"
    }
   },
   "source": [
    "print(get_subreddit_posts_comments(\"Nachrichten\", \"hot\", 10))"
   ],
   "outputs": [
    {
     "name": "stdout",
     "output_type": "stream",
     "text": [
      "    subreddit_id        s_date comment_id  \\\n",
      "0        1977olb  1.705322e+09    kiqjz7n   \n",
      "1        1c65xfk  1.713348e+09    kzyq8tl   \n",
      "2        1c65xfk  1.713348e+09    kzzdgpm   \n",
      "3        1c65xfk  1.713348e+09    kzz5fgv   \n",
      "4        1c65xfk  1.713348e+09    kzytjdz   \n",
      "..           ...           ...        ...   \n",
      "176      1c3qxb5  1.713092e+09    kzop7or   \n",
      "177      1c3qxb5  1.713092e+09    kzjfdzn   \n",
      "178      1c3qxb5  1.713092e+09    kznhdmx   \n",
      "179      1c3qxb5  1.713092e+09    kznm18i   \n",
      "180      1c3qxb5  1.713092e+09    kznn5g1   \n",
      "\n",
      "                                                c_text  c_upvote  \\\n",
      "0                                            Gerne PN!         1   \n",
      "1    > **Behörden haben den ehemaligen griechischen...         8   \n",
      "2    Deutschland ist immer noch sauer, weil Varoufa...         2   \n",
      "3    Ach in welcher schönen Zeit wir leben wo die g...         3   \n",
      "4    Schade, dass das nich auch schon ginger also e...        -8   \n",
      "..                                                 ...       ...   \n",
      "176                       multikulti bereicherung halt         1   \n",
      "177                                          [removed]         1   \n",
      "178                    Wie schaffen sie Demokratie ab?         1   \n",
      "179  Naja wenn du den Kontext erwähnst dann muss ma...         0   \n",
      "180  >Naja wenn du den Kontext erwähnst dann muss m...         1   \n",
      "\n",
      "                 c_author        c_date  \n",
      "0           miriam-reddit  1.705758e+09  \n",
      "1             goto-reddit  1.713348e+09  \n",
      "2             Saphirex161  1.713360e+09  \n",
      "3        cyberPolecat5000  1.713356e+09  \n",
      "4    bingobongokongolongo  1.713350e+09  \n",
      "..                    ...           ...  \n",
      "176         GaLiGrueGoeGa  1.713193e+09  \n",
      "177                  None  1.713106e+09  \n",
      "178         CourageKey747  1.713170e+09  \n",
      "179        SoySorcerer161  1.713174e+09  \n",
      "180        NilsvonDomarus  1.713174e+09  \n",
      "\n",
      "[181 rows x 7 columns]\n"
     ]
    }
   ],
   "execution_count": 9
  },
  {
   "cell_type": "markdown",
   "id": "5aff3041731609a8",
   "metadata": {},
   "source": [
    "## Aufgabe 2.2"
   ]
  },
  {
   "cell_type": "code",
   "id": "803fdfb36ca84491",
   "metadata": {
    "ExecuteTime": {
     "end_time": "2024-04-17T13:40:39.306565Z",
     "start_time": "2024-04-17T13:40:39.302682Z"
    }
   },
   "source": [
    "def convert_utc_to_datetime(utc_date):\n",
    "    return datetime.date.fromtimestamp(utc_date)"
   ],
   "outputs": [],
   "execution_count": 10
  },
  {
   "cell_type": "markdown",
   "id": "a228785beb8bc2a9",
   "metadata": {},
   "source": [
    "## Aufgabe 2.3"
   ]
  },
  {
   "cell_type": "code",
   "id": "c7bd90923488bafd",
   "metadata": {
    "ExecuteTime": {
     "end_time": "2024-04-17T13:40:42.930590Z",
     "start_time": "2024-04-17T13:40:39.308574Z"
    }
   },
   "source": [
    "df_datetime = get_subreddit_posts_comments(\"Nachrichten\", \"hot\", 10)\n",
    "\n",
    "df_datetime[\"s_date\"] = df_datetime[\"s_date\"].apply(convert_utc_to_datetime)\n",
    "df_datetime[\"c_date\"] = df_datetime[\"c_date\"].apply(convert_utc_to_datetime)\n",
    "\n",
    "print(df_datetime)  "
   ],
   "outputs": [
    {
     "name": "stdout",
     "output_type": "stream",
     "text": [
      "    subreddit_id      s_date comment_id  \\\n",
      "0        1977olb  2024-01-15    kiqjz7n   \n",
      "1        1c65xfk  2024-04-17    kzyq8tl   \n",
      "2        1c65xfk  2024-04-17    kzzdgpm   \n",
      "3        1c65xfk  2024-04-17    kzz5fgv   \n",
      "4        1c65xfk  2024-04-17    kzytjdz   \n",
      "..           ...         ...        ...   \n",
      "176      1c3qxb5  2024-04-14    kzop7or   \n",
      "177      1c3qxb5  2024-04-14    kzjfdzn   \n",
      "178      1c3qxb5  2024-04-14    kznhdmx   \n",
      "179      1c3qxb5  2024-04-14    kznm18i   \n",
      "180      1c3qxb5  2024-04-14    kznn5g1   \n",
      "\n",
      "                                                c_text  c_upvote  \\\n",
      "0                                            Gerne PN!         1   \n",
      "1    > **Behörden haben den ehemaligen griechischen...         8   \n",
      "2    Deutschland ist immer noch sauer, weil Varoufa...         2   \n",
      "3    Ach in welcher schönen Zeit wir leben wo die g...         3   \n",
      "4    Schade, dass das nich auch schon ginger also e...        -8   \n",
      "..                                                 ...       ...   \n",
      "176                       multikulti bereicherung halt         1   \n",
      "177                                          [removed]         1   \n",
      "178                    Wie schaffen sie Demokratie ab?         1   \n",
      "179  Naja wenn du den Kontext erwähnst dann muss ma...         0   \n",
      "180  >Naja wenn du den Kontext erwähnst dann muss m...         1   \n",
      "\n",
      "                 c_author      c_date  \n",
      "0           miriam-reddit  2024-01-20  \n",
      "1             goto-reddit  2024-04-17  \n",
      "2             Saphirex161  2024-04-17  \n",
      "3        cyberPolecat5000  2024-04-17  \n",
      "4    bingobongokongolongo  2024-04-17  \n",
      "..                    ...         ...  \n",
      "176         GaLiGrueGoeGa  2024-04-15  \n",
      "177                  None  2024-04-14  \n",
      "178         CourageKey747  2024-04-15  \n",
      "179        SoySorcerer161  2024-04-15  \n",
      "180        NilsvonDomarus  2024-04-15  \n",
      "\n",
      "[181 rows x 7 columns]\n"
     ]
    }
   ],
   "execution_count": 11
  },
  {
   "cell_type": "markdown",
   "id": "b03d9f60642dd7bf",
   "metadata": {},
   "source": [
    "## Aufgabe 2.4"
   ]
  },
  {
   "cell_type": "code",
   "id": "6bf5f57203a85d5b",
   "metadata": {
    "ExecuteTime": {
     "end_time": "2024-04-17T13:40:42.937748Z",
     "start_time": "2024-04-17T13:40:42.931599Z"
    }
   },
   "source": [
    "df_datetime.to_csv(\"df_datetime.csv\", index=True)"
   ],
   "outputs": [],
   "execution_count": 12
  },
  {
   "cell_type": "markdown",
   "id": "7c30b460b544f2f8",
   "metadata": {},
   "source": [
    "## Aufgabe 3"
   ]
  },
  {
   "cell_type": "code",
   "id": "8d72f6a04f3c3f6d",
   "metadata": {
    "ExecuteTime": {
     "end_time": "2024-04-17T13:40:42.949968Z",
     "start_time": "2024-04-17T13:40:42.938756Z"
    }
   },
   "source": [
    "def calc_comments_length(df, col_name):\n",
    "    df[\"n_letters\"] = df[col_name].str.len()\n",
    "    return df\n",
    "\n",
    "\n",
    "df = pd.read_csv(\"df_datetime.csv\")\n",
    "\n",
    "extended_df = calc_comments_length(df, \"c_text\")\n",
    "print(extended_df)"
   ],
   "outputs": [
    {
     "name": "stdout",
     "output_type": "stream",
     "text": [
      "     Unnamed: 0 subreddit_id      s_date comment_id  \\\n",
      "0             0      1977olb  2024-01-15    kiqjz7n   \n",
      "1             1      1c65xfk  2024-04-17    kzyq8tl   \n",
      "2             2      1c65xfk  2024-04-17    kzzdgpm   \n",
      "3             3      1c65xfk  2024-04-17    kzz5fgv   \n",
      "4             4      1c65xfk  2024-04-17    kzytjdz   \n",
      "..          ...          ...         ...        ...   \n",
      "176         176      1c3qxb5  2024-04-14    kzop7or   \n",
      "177         177      1c3qxb5  2024-04-14    kzjfdzn   \n",
      "178         178      1c3qxb5  2024-04-14    kznhdmx   \n",
      "179         179      1c3qxb5  2024-04-14    kznm18i   \n",
      "180         180      1c3qxb5  2024-04-14    kznn5g1   \n",
      "\n",
      "                                                c_text  c_upvote  \\\n",
      "0                                            Gerne PN!         1   \n",
      "1    > **Behörden haben den ehemaligen griechischen...         8   \n",
      "2    Deutschland ist immer noch sauer, weil Varoufa...         2   \n",
      "3    Ach in welcher schönen Zeit wir leben wo die g...         3   \n",
      "4    Schade, dass das nich auch schon ginger also e...        -8   \n",
      "..                                                 ...       ...   \n",
      "176                       multikulti bereicherung halt         1   \n",
      "177                                          [removed]         1   \n",
      "178                    Wie schaffen sie Demokratie ab?         1   \n",
      "179  Naja wenn du den Kontext erwähnst dann muss ma...         0   \n",
      "180  >Naja wenn du den Kontext erwähnst dann muss m...         1   \n",
      "\n",
      "                 c_author      c_date  n_letters  \n",
      "0           miriam-reddit  2024-01-20          9  \n",
      "1             goto-reddit  2024-04-17        557  \n",
      "2             Saphirex161  2024-04-17        620  \n",
      "3        cyberPolecat5000  2024-04-17        278  \n",
      "4    bingobongokongolongo  2024-04-17         66  \n",
      "..                    ...         ...        ...  \n",
      "176         GaLiGrueGoeGa  2024-04-15         28  \n",
      "177                   NaN  2024-04-14          9  \n",
      "178         CourageKey747  2024-04-15         31  \n",
      "179        SoySorcerer161  2024-04-15        710  \n",
      "180        NilsvonDomarus  2024-04-15       1627  \n",
      "\n",
      "[181 rows x 9 columns]\n"
     ]
    }
   ],
   "execution_count": 13
  },
  {
   "cell_type": "markdown",
   "id": "fdb6af84d3eb5c4f",
   "metadata": {},
   "source": [
    "## Aufgabe 4"
   ]
  },
  {
   "cell_type": "code",
   "id": "37aea8c636bc7fb5",
   "metadata": {
    "ExecuteTime": {
     "end_time": "2024-04-17T13:40:42.966818Z",
     "start_time": "2024-04-17T13:40:42.950976Z"
    }
   },
   "source": [
    "def calculate_comment_activity(df, post_date_col, comment_date_col):\n",
    "    df[post_date_col] = pd.to_datetime(df[post_date_col])\n",
    "    df[comment_date_col] = pd.to_datetime(df[comment_date_col])\n",
    "    \n",
    "    df[\"days_since_post\"] = (df[comment_date_col] - df[post_date_col]).dt.days\n",
    "\n",
    "    comment_activity = df[\"days_since_post\"].value_counts().sort_index()\n",
    "    \n",
    "    output_df = pd.DataFrame({\"counts\": comment_activity})\n",
    "    output_df.index.name = \"days\"\n",
    "\n",
    "    return output_df\n",
    "\n",
    "comment_activity = calculate_comment_activity(df, \"s_date\", \"c_date\")\n",
    "print(comment_activity)"
   ],
   "outputs": [
    {
     "name": "stdout",
     "output_type": "stream",
     "text": [
      "      counts\n",
      "days        \n",
      "0         69\n",
      "1        104\n",
      "2          7\n",
      "5          1\n"
     ]
    }
   ],
   "execution_count": 14
  }
 ],
 "metadata": {
  "kernelspec": {
   "display_name": "Python 3 (ipykernel)",
   "language": "python",
   "name": "python3"
  },
  "language_info": {
   "codemirror_mode": {
    "name": "ipython",
    "version": 3
   },
   "file_extension": ".py",
   "mimetype": "text/x-python",
   "name": "python",
   "nbconvert_exporter": "python",
   "pygments_lexer": "ipython3",
   "version": "3.12.0"
  }
 },
 "nbformat": 4,
 "nbformat_minor": 5
}
