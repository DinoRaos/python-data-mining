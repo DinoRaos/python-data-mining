{
 "cells": [
  {
   "metadata": {},
   "cell_type": "markdown",
   "source": "# Webscraping",
   "id": "582ca9b0b5adfabb"
  },
  {
   "metadata": {
    "ExecuteTime": {
     "end_time": "2024-05-15T12:47:43.065493Z",
     "start_time": "2024-05-15T12:47:43.062222Z"
    }
   },
   "cell_type": "code",
   "source": [
    "import requests\n",
    "from bs4 import BeautifulSoup\n",
    "from selenium import webdriver\n",
    "from selenium.webdriver import ActionChains\n",
    "import time\n",
    "from selenium.webdriver.common.by import By"
   ],
   "id": "88a4ee963c22bc97",
   "outputs": [],
   "execution_count": 6
  },
  {
   "metadata": {
    "ExecuteTime": {
     "end_time": "2024-05-15T12:47:44.916652Z",
     "start_time": "2024-05-15T12:47:43.087085Z"
    }
   },
   "cell_type": "code",
   "source": [
    "page = requests.get(\"https://www.thws.de/\")\n",
    "soup = BeautifulSoup(page.content, \"html.parser\")\n",
    "driver = webdriver.Chrome()"
   ],
   "id": "7630231402180874",
   "outputs": [],
   "execution_count": 7
  },
  {
   "metadata": {},
   "cell_type": "markdown",
   "source": "## Thws Navbar",
   "id": "1856c3ed7341a116"
  },
  {
   "metadata": {
    "ExecuteTime": {
     "end_time": "2024-05-15T12:47:44.924568Z",
     "start_time": "2024-05-15T12:47:44.917657Z"
    }
   },
   "cell_type": "code",
   "source": "soup.find(\"ul\", id=\"nav\")",
   "id": "7b58c2c4812eaa51",
   "outputs": [
    {
     "data": {
      "text/plain": [
       "<ul class=\"nav hoverDropdown\" id=\"nav\"><li><a href=\"/hochschule/\">Hochschule<span>Die THWS<br/>\n",
       "im Überblick<span></span></span></a><div class=\"megaDropdownWrap\"><div class=\"megaDropdown\"><div class=\"container\"><div class=\"row\"><div class=\"col-sm-3 megaDropdownCol\"><a href=\"/hochschule/profil-der-thws/\">Profil der THWS</a><a href=\"/hochschule/fhws-wird-thws/\">FHWS wird THWS</a><a href=\"/hochschule/tag-der-wissenschaft/\">Tag der Wissenschaft</a><a href=\"/hochschule/50-jahre-fhws/\">50 Jahre FHWS</a><a href=\"/hochschule/fakultaeten/\">Fakultäten</a><a href=\"/hochschule/organisation/\">Organisation</a><a href=\"/hochschule/hochschulentwicklung/\">Hochschulentwicklung</a><a href=\"/hochschule/personalrat/\">Personalrat</a><a href=\"/hochschule/anlaufstellen-bei-diskriminierung/\">Anlaufstellen bei Diskriminierung</a></div><div class=\"col-sm-3 megaDropdownCol\"><a href=\"/studium-an-der-thws/studieren/\">Studiengänge</a><a href=\"/hochschule/virtuelle-hochschule-bayern-vhb/\">Virtuelle Hochschule Bayern (vhb)</a><a href=\"/hochschule/zentrum-digitale-lehre/\">Zentrum Digitale Lehre</a></div><div class=\"col-sm-3 megaDropdownCol\"><a href=\"/hochschule/amtliche-veroeffentlichungen/\">Amtliche Veröffentlichungen</a><a href=\"/hochschule/publikationen/\">Publikationen</a></div><div class=\"col-sm-3 megaDropdownCol\"><a href=\"/hochschule/unterstuetzer/\">Unterstützer</a></div></div><div style=\"margin-top: 20px; background-color: #f5f5f5; border: 1px solid #ececec;\"><div class=\"col-sm-2 col-sm-offset-1 megaDropdownCol\"><a href=\"/studieninteressierte/\"><i class=\"icon-studieninteressierte2\"></i>Studieninteressierte</a></div><div class=\"col-sm-2 col-sm-offset-1 megaDropdownCol\"><a href=\"/beratung-und-service/\"><i class=\"icon-beratung\"></i>Beratung und Service</a></div><div class=\"col-sm-2 col-sm-offset-1 megaDropdownCol\"><a href=\"https://international.fhws.de/\"><i class=\"icon-international\"></i>THWS International</a></div><div class=\"col-sm-2 col-sm-offset-1 megaDropdownCol\"><a href=\"/kooperationen-und-karriere/\"><i class=\"icon-cooperation\"></i>Kooperationen und Karriere</a></div><div style=\"clear: both;\"> </div></div></div></div></div></li><li><a href=\"/hta-schwerpunkte/\">Schwerpunkte<span>Hightech Agenda<br/>\n",
       "Freistaat Bayern<span></span></span></a><div class=\"megaDropdownWrap\"><div class=\"megaDropdown\"><div class=\"container\"><div class=\"row\"><div class=\"col-sm-3 megaDropdownCol\"></div><div class=\"col-sm-3 megaDropdownCol\"><a href=\"https://ki.thws.de\" target=\"_blank\">Künstliche Intelligenz</a></div><div class=\"col-sm-3 megaDropdownCol\"><a href=\"https://robotik.thws.de\" target=\"_blank\">Robotik</a></div><div class=\"col-sm-3 megaDropdownCol\"><a href=\"http://wasserstofftechnik.thws.de/\" target=\"_blank\">Wasserstofftechnik</a></div></div><div style=\"margin-top: 20px; background-color: #f5f5f5; border: 1px solid #ececec;\"><div class=\"col-sm-2 col-sm-offset-1 megaDropdownCol\"><a href=\"/studieninteressierte/\"><i class=\"icon-studieninteressierte2\"></i>Studieninteressierte</a></div><div class=\"col-sm-2 col-sm-offset-1 megaDropdownCol\"><a href=\"/beratung-und-service/\"><i class=\"icon-beratung\"></i>Beratung und Service</a></div><div class=\"col-sm-2 col-sm-offset-1 megaDropdownCol\"><a href=\"https://international.fhws.de/\"><i class=\"icon-international\"></i>THWS International</a></div><div class=\"col-sm-2 col-sm-offset-1 megaDropdownCol\"><a href=\"/kooperationen-und-karriere/\"><i class=\"icon-cooperation\"></i>Kooperationen und Karriere</a></div><div style=\"clear: both;\"> </div></div></div></div></div></li><li><a href=\"/studium-an-der-thws/\">Studium an der THWS<span>Informationen<br/>\n",
       "rund ums Studium<span></span></span></a><div class=\"megaDropdownWrap\"><div class=\"megaDropdown\"><div class=\"container\"><div class=\"row\"><div class=\"col-sm-3 megaDropdownCol\"><a href=\"/studium-an-der-thws/studieren/\">Studieren</a><a href=\"/studium-an-der-thws/studienstart/\">Studienstart</a><a href=\"/studium-an-der-thws/studieren/studiengaenge/\">Studiengänge</a></div><div class=\"col-sm-3 megaDropdownCol\"><a href=\"/studium-an-der-thws/bewerbung-immatrikulation-pruefungen-praktikum/\">Bewerbung, Immatrikulation, Prüfungen, Praktikum</a></div><div class=\"col-sm-3 megaDropdownCol\"><a href=\"/beratung-und-service/\">Beratung und Service</a><a href=\"http://hmz.thws.de\" target=\"_blank\">Hochschulmedienzentrum</a></div><div class=\"col-sm-3 megaDropdownCol\"><a href=\"/weiterbildung/\">Weiterbildung</a></div></div><div style=\"margin-top: 20px; background-color: #f5f5f5; border: 1px solid #ececec;\"><div class=\"col-sm-2 col-sm-offset-1 megaDropdownCol\"><a href=\"/studieninteressierte/\"><i class=\"icon-studieninteressierte2\"></i>Studieninteressierte</a></div><div class=\"col-sm-2 col-sm-offset-1 megaDropdownCol\"><a href=\"/beratung-und-service/\"><i class=\"icon-beratung\"></i>Beratung und Service</a></div><div class=\"col-sm-2 col-sm-offset-1 megaDropdownCol\"><a href=\"https://international.fhws.de/\"><i class=\"icon-international\"></i>THWS International</a></div><div class=\"col-sm-2 col-sm-offset-1 megaDropdownCol\"><a href=\"/kooperationen-und-karriere/\"><i class=\"icon-cooperation\"></i>Kooperationen und Karriere</a></div><div style=\"clear: both;\"> </div></div></div></div></div></li><li><a href=\"/forschung/\">Forschung<span>Wissens- und<br/>\n",
       "Technologietransfer<span></span></span></a><div class=\"megaDropdownWrap\"><div class=\"megaDropdown\"><div class=\"container\"><div class=\"row\"><div class=\"col-sm-3 megaDropdownCol\"><a href=\"/forschung/caf-campus-angewandte-forschung/\">CAF - Campus Angewandte Forschung</a></div><div class=\"col-sm-3 megaDropdownCol\"><a href=\"/forschung/institute/\">Institute</a></div><div class=\"col-sm-3 megaDropdownCol\"><a href=\"/forschung/labore/\">Labore</a></div><div class=\"col-sm-3 megaDropdownCol\"><a href=\"/forschung/richtlinien-wissenschaftlicher-praxis-sicherung-guter-wissenschaftlicher-arbeit/\">Richtlinien wissenschaftlicher Praxis &amp; Sicherung guter wissenschaftlicher Arbeit</a></div></div><div style=\"margin-top: 20px; background-color: #f5f5f5; border: 1px solid #ececec;\"><div class=\"col-sm-2 col-sm-offset-1 megaDropdownCol\"><a href=\"/studieninteressierte/\"><i class=\"icon-studieninteressierte2\"></i>Studieninteressierte</a></div><div class=\"col-sm-2 col-sm-offset-1 megaDropdownCol\"><a href=\"/beratung-und-service/\"><i class=\"icon-beratung\"></i>Beratung und Service</a></div><div class=\"col-sm-2 col-sm-offset-1 megaDropdownCol\"><a href=\"https://international.fhws.de/\"><i class=\"icon-international\"></i>THWS International</a></div><div class=\"col-sm-2 col-sm-offset-1 megaDropdownCol\"><a href=\"/kooperationen-und-karriere/\"><i class=\"icon-cooperation\"></i>Kooperationen und Karriere</a></div><div style=\"clear: both;\"> </div></div></div></div></div></li><li><a href=\"/weiterbildung/\">Weiterbildung<span>Campus Weiterbildung<span></span></span></a><div class=\"megaDropdownWrap\"><div class=\"megaDropdown\"><div class=\"container\"><div class=\"row\"><div class=\"col-sm-3 megaDropdownCol\"><a href=\"/weiterbildung/\">Startseite</a><a href=\"/weiterbildung/wer-wir-sind/\">Wer wir sind</a><a href=\"/weiterbildung/weiterbildungen/\">Weiterbildungen</a><a href=\"/weiterbildung/projekte/\">Projekte</a><a href=\"/weiterbildung/fremdsprachen/\">Fremdsprachen</a><a href=\"/weiterbildung/service/\">Service</a></div><div class=\"col-sm-3 megaDropdownCol\"><a href=\"/weiterbildung/weiterbildungen/digitales-technik/\">Digitales &amp; Technik</a><a href=\"/weiterbildung/weiterbildungen/business-fuehrung/\">Business &amp; Führung</a><a href=\"/weiterbildung/weiterbildungen/gesundheit-soziales/\">Gesundheit &amp; Soziales</a><a href=\"/weiterbildung/weiterbildungen/organisation-kreativitaet/\">Organisation &amp; Kreativität</a></div><div class=\"col-sm-3 megaDropdownCol\"><a href=\"/weiterbildung/weiterbildungen/masterstudiengaenge/\">Masterstudiengänge</a><a href=\"/weiterbildung/weiterbildungen/zertifikatslehrgaenge/\">Zertifikatslehrgänge</a><a href=\"/weiterbildung/weiterbildungen/workshops/\">Workshops</a></div><div class=\"col-sm-3 megaDropdownCol\"><a href=\"/weiterbildung/weiterbildungen/ausbilderschein/\">Ausbilderschein</a><a href=\"/weiterbildung/weiterbildungen/vorbereitungskurse/\">Vorbereitungskurse</a></div></div><div style=\"margin-top: 20px; background-color: #f5f5f5; border: 1px solid #ececec;\"><div class=\"col-sm-2 col-sm-offset-1 megaDropdownCol\"><a href=\"/studieninteressierte/\"><i class=\"icon-studieninteressierte2\"></i>Studieninteressierte</a></div><div class=\"col-sm-2 col-sm-offset-1 megaDropdownCol\"><a href=\"/beratung-und-service/\"><i class=\"icon-beratung\"></i>Beratung und Service</a></div><div class=\"col-sm-2 col-sm-offset-1 megaDropdownCol\"><a href=\"https://international.fhws.de/\"><i class=\"icon-international\"></i>THWS International</a></div><div class=\"col-sm-2 col-sm-offset-1 megaDropdownCol\"><a href=\"/kooperationen-und-karriere/\"><i class=\"icon-cooperation\"></i>Kooperationen und Karriere</a></div><div style=\"clear: both;\"> </div></div></div></div></div></li></ul>"
      ]
     },
     "execution_count": 8,
     "metadata": {},
     "output_type": "execute_result"
    }
   ],
   "execution_count": 8
  },
  {
   "metadata": {
    "ExecuteTime": {
     "end_time": "2024-05-15T12:47:55.270828Z",
     "start_time": "2024-05-15T12:47:44.925573Z"
    }
   },
   "cell_type": "code",
   "source": [
    "li_elements = soup.find('ul', id='nav').find_all('li')\n",
    "links = []\n",
    "\n",
    "for li in li_elements:\n",
    "    links.append(page.url + li.find('a')['href'][1:])\n",
    "\n",
    "for link in links:\n",
    "    driver.get(link)\n",
    "    time.sleep(1)\n",
    "    page_soup = BeautifulSoup(driver.page_source, 'html.parser')\n",
    "    title = page_soup.find('title').text\n",
    "    print(title)\n",
    "    \n",
    "driver.quit()"
   ],
   "id": "255354a0d82fa06a",
   "outputs": [
    {
     "name": "stdout",
     "output_type": "stream",
     "text": [
      " Die THWS im Überblick :: Technische Hochschule Würzburg-Schweinfurt\n",
      " Schwerpunkte der FHWS :: Technische Hochschule Würzburg-Schweinfurt\n",
      " Informationen rund ums Studium :: Technische Hochschule Würzburg-Schweinfurt\n",
      " Wissens- und Technologietransfer :: Technische Hochschule Würzburg-Schweinfurt\n",
      " Campus Weiterbildung :: Technische Hochschule Würzburg-Schweinfurt\n"
     ]
    }
   ],
   "execution_count": 9
  },
  {
   "metadata": {},
   "cell_type": "markdown",
   "source": "## Google cookies",
   "id": "6ea8c2fbceb8e2ac"
  },
  {
   "metadata": {
    "ExecuteTime": {
     "end_time": "2024-05-15T13:09:29.017285Z",
     "start_time": "2024-05-15T13:09:16.144087Z"
    }
   },
   "cell_type": "code",
   "source": [
    "driver = webdriver.Chrome()\n",
    "\n",
    "try:\n",
    "    driver.get(\"https://www.google.com\")\n",
    "\n",
    "    time.sleep(2)\n",
    "    \n",
    "    accept_button = driver.find_element(By.XPATH, '//button[@id=\"L2AGLb\" or @aria-label=\"Alles akzeptieren\"]')\n",
    "    ActionChains(driver).move_to_element(accept_button).click().perform()\n",
    "\n",
    "    time.sleep(2)\n",
    "\n",
    "    search_box = driver.find_element(By.NAME, 'q')\n",
    "    search_box.send_keys(\"Python Web Scraping\")\n",
    "    search_box.send_keys(u'\\ue007')\n",
    "\n",
    "    time.sleep(2)\n",
    "\n",
    "    page_source = driver.page_source\n",
    "    soup = BeautifulSoup(page_source, 'html.parser')\n",
    "    headings = soup.find_all('h3')\n",
    "\n",
    "    for heading in headings:\n",
    "        print(heading.get_text())\n",
    "\n",
    "finally:\n",
    "    driver.quit()"
   ],
   "id": "61a39ad10ee540bd",
   "outputs": [
    {
     "name": "stdout",
     "output_type": "stream",
     "text": [
      "A Practical Introduction to Web Scraping in Python\n",
      "Web scraping with Python - Tutorial\n",
      "Python Web Scraping Tutorial: Step-By-Step [2024 Guide]\n",
      "Web Scraping With Python – 2024 Full Guide\n",
      "Beautiful Soup: Build a Web Scraper With Python\n",
      "What Is Web Scraping in Python? (Definition, Legality) - Built In\n",
      "Is Web Scraping Illegal? - Imperva\n",
      "Web Scraping using Python (and Beautiful Soup) - DataCamp\n",
      "A Beginner's Guide to learn web scraping with python!\n",
      "Beautiful Soup: Einführung in Web Scraping mit Python\n",
      "Python Web Scraping Tutorial\n",
      "Web Scraping with Python: Everything you need to know (2022)\n",
      "Weitere Ergebnisse\n",
      "Erneut versuchen\n"
     ]
    }
   ],
   "execution_count": 12
  }
 ],
 "metadata": {
  "kernelspec": {
   "display_name": "Python 3",
   "language": "python",
   "name": "python3"
  },
  "language_info": {
   "codemirror_mode": {
    "name": "ipython",
    "version": 2
   },
   "file_extension": ".py",
   "mimetype": "text/x-python",
   "name": "python",
   "nbconvert_exporter": "python",
   "pygments_lexer": "ipython2",
   "version": "2.7.6"
  }
 },
 "nbformat": 4,
 "nbformat_minor": 5
}
