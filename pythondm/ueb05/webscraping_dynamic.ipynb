{
 "cells": [
  {
   "metadata": {},
   "cell_type": "markdown",
   "source": [
    "# Webscraping\n",
    "## dynamic"
   ],
   "id": "2a9cb4c8afaac7df"
  },
  {
   "metadata": {
    "ExecuteTime": {
     "end_time": "2024-04-30T10:43:24.677688Z",
     "start_time": "2024-04-30T10:43:24.674383Z"
    }
   },
   "cell_type": "code",
   "source": [
    "import requests\n",
    "from bs4 import BeautifulSoup"
   ],
   "id": "41494101d17e93a3",
   "outputs": [],
   "execution_count": 68
  },
  {
   "metadata": {
    "ExecuteTime": {
     "end_time": "2024-04-30T10:43:25.075843Z",
     "start_time": "2024-04-30T10:43:24.679697Z"
    }
   },
   "cell_type": "code",
   "source": [
    "page = requests.get(\"https://oxylabs.io/home\")\n",
    "soup = BeautifulSoup(page.content, \"html.parser\")"
   ],
   "id": "8449ab8d617ec744",
   "outputs": [],
   "execution_count": 69
  },
  {
   "metadata": {
    "ExecuteTime": {
     "end_time": "2024-04-30T10:43:27.920290Z",
     "start_time": "2024-04-30T10:43:25.077358Z"
    }
   },
   "cell_type": "code",
   "source": [
    "from selenium import webdriver\n",
    "from selenium.webdriver import ActionChains\n",
    "import time\n",
    "from selenium.webdriver.common.by import By\n",
    "\n",
    "driver = webdriver.Chrome()\n",
    "driver.get(\"https://oxylabs.io/home\")\n",
    "driver.add_cookie({\"name\":\"name\", \"value\":\"kevin\"})"
   ],
   "id": "3aa09968d118caf8",
   "outputs": [],
   "execution_count": 70
  },
  {
   "metadata": {
    "ExecuteTime": {
     "end_time": "2024-04-30T10:43:30.248335Z",
     "start_time": "2024-04-30T10:43:27.922249Z"
    }
   },
   "cell_type": "code",
   "source": [
    "time.sleep(2)\n",
    "ActionChains(driver).click(\n",
    "    driver.find_element(by=By.ID, value=\"CybotCookiebotDialogBodyLevelButtonLevelOptinAllowAll\")).perform() "
   ],
   "id": "a16ca5a92f046335",
   "outputs": [],
   "execution_count": 71
  },
  {
   "metadata": {
    "ExecuteTime": {
     "end_time": "2024-04-30T10:43:32.483268Z",
     "start_time": "2024-04-30T10:43:30.250349Z"
    }
   },
   "cell_type": "code",
   "source": [
    "page_source = driver.page_source\n",
    "driver.quit()\n",
    "soup = BeautifulSoup(page_source, \"html.parser\")"
   ],
   "id": "29db90a725223891",
   "outputs": [],
   "execution_count": 72
  }
 ],
 "metadata": {
  "kernelspec": {
   "display_name": "Python 3",
   "language": "python",
   "name": "python3"
  },
  "language_info": {
   "codemirror_mode": {
    "name": "ipython",
    "version": 2
   },
   "file_extension": ".py",
   "mimetype": "text/x-python",
   "name": "python",
   "nbconvert_exporter": "python",
   "pygments_lexer": "ipython2",
   "version": "2.7.6"
  }
 },
 "nbformat": 4,
 "nbformat_minor": 5
}
