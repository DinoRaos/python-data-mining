{
 "cells": [
  {
   "metadata": {},
   "cell_type": "markdown",
   "source": "# Geizhals",
   "id": "6ca7e9d36dcb2d9"
  },
  {
   "metadata": {
    "ExecuteTime": {
     "end_time": "2024-05-21T19:46:18.590541Z",
     "start_time": "2024-05-21T19:46:13.736236Z"
    }
   },
   "cell_type": "code",
   "source": [
    "# IMPORTS\n",
    "import time\n",
    "import random\n",
    "import pandas as pd\n",
    "from bs4 import BeautifulSoup\n",
    "from selenium import webdriver\n",
    "from selenium.webdriver import ActionChains\n",
    "from selenium.webdriver.common.by import By\n",
    "from selenium.webdriver.support import expected_conditions as EC\n",
    "from selenium.webdriver.support.wait import WebDriverWait"
   ],
   "id": "3ad0df534b798e48",
   "outputs": [],
   "execution_count": 47
  },
  {
   "metadata": {},
   "cell_type": "markdown",
   "source": "### 1. WebDriver & Cookies + 3. Pagination navigation",
   "id": "f04d0a85fa1dcb0c"
  },
  {
   "metadata": {
    "ExecuteTime": {
     "end_time": "2024-05-21T19:46:18.596564Z",
     "start_time": "2024-05-21T19:46:18.591545Z"
    }
   },
   "cell_type": "code",
   "source": [
    "local_site = \"C:/Users/dinor/Downloads/geizhals.html\"\n",
    "\n",
    "\n",
    "def get_products_from_plp(url, number_of_pages):\n",
    "    # User-Agent\n",
    "    options = webdriver.ChromeOptions()\n",
    "    options.add_argument(\n",
    "        \"Mozilla/5.0 (Windows NT 10.0; Win64; x64) AppleWebKit/537.36 (KHTML, like Gecko) Chrome/124.0.0.0 Safari/537.36\")\n",
    "    driver = webdriver.Chrome()\n",
    "\n",
    "    all_products = []\n",
    "\n",
    "    try:\n",
    "        driver.get(url)\n",
    "        WebDriverWait(driver, 10).until(\n",
    "            EC.element_to_be_clickable((By.ID, \"onetrust-accept-btn-handler\"))\n",
    "        )\n",
    "\n",
    "        time.sleep(random.randint(2, 4))\n",
    "        ActionChains(driver).click(driver.find_element(by=By.ID, value=\"onetrust-accept-btn-handler\")).perform()\n",
    "\n",
    "        for page in range(1, number_of_pages + 1):\n",
    "            print(f\"Scraping page {page}\")\n",
    "            time.sleep(random.randint(4, 8))\n",
    "            products_data = get_product_data(driver.page_source)\n",
    "            all_products.extend(products_data)\n",
    "\n",
    "            try:\n",
    "                next_button = WebDriverWait(driver, 10).until(\n",
    "                    EC.element_to_be_clickable((By.CSS_SELECTOR, \".pagination__page--next\"))\n",
    "                )\n",
    "                next_button.click()\n",
    "            except Exception as e:\n",
    "                print(f\"Could not navigate to next page: {e}\")\n",
    "                break\n",
    "\n",
    "    finally:\n",
    "        driver.quit()\n",
    "\n",
    "    return all_products"
   ],
   "id": "64e78ab58ac8b5eb",
   "outputs": [],
   "execution_count": 48
  },
  {
   "metadata": {},
   "cell_type": "markdown",
   "source": "### 2. Productdata extraction",
   "id": "8a251fd6ffaff70c"
  },
  {
   "metadata": {
    "ExecuteTime": {
     "end_time": "2024-05-21T19:46:18.603459Z",
     "start_time": "2024-05-21T19:46:18.597075Z"
    }
   },
   "cell_type": "code",
   "source": [
    "def get_product_data(page_content):\n",
    "    soup = BeautifulSoup(page_content, \"html.parser\")\n",
    "\n",
    "    products_data = []\n",
    "    items = soup.find_all(\"article\", class_=\"listview__item\")\n",
    "\n",
    "    for item in items:\n",
    "        stars = get_element_text(item, \"stars-rating-label\", \"span\")\n",
    "        price = get_element_text(item, \"price\")\n",
    "        offers = get_element_text(item, \"listview__offercount-link\")\n",
    "        pdp = get_element_text(item, \"listview__name-link\", attribute=\"href\")\n",
    "\n",
    "        products_data.append([stars, price, offers, pdp])\n",
    "        \n",
    "    return products_data\n",
    "\n",
    "def get_element_text(item, class_name, sub_element=None, attribute=None):\n",
    "    try:\n",
    "        element = item.find(class_=class_name)\n",
    "        if element:\n",
    "            if sub_element:\n",
    "                element = element.find(sub_element)\n",
    "            if element:\n",
    "                return element[attribute] if attribute else element.text.strip()\n",
    "    except Exception as e:\n",
    "        print(f\"Could not find {class_name} element\")\n",
    "    return None"
   ],
   "id": "cc64f55982217e2c",
   "outputs": [],
   "execution_count": 49
  },
  {
   "metadata": {},
   "cell_type": "markdown",
   "source": "### 4. Save as CSV",
   "id": "d43968cfb233e6f8"
  },
  {
   "metadata": {
    "ExecuteTime": {
     "end_time": "2024-05-21T19:46:18.609192Z",
     "start_time": "2024-05-21T19:46:18.605009Z"
    }
   },
   "cell_type": "code",
   "source": [
    "def save_to_csv(data, filename):\n",
    "    df = pd.DataFrame(data, columns=[\"Stars\", \"Price\", \"Offers\", \"PDP\"])\n",
    "    try:\n",
    "        existing_df = pd.read_csv(filename)\n",
    "        df = pd.concat([existing_df, df], ignore_index=True)\n",
    "    except FileNotFoundError:\n",
    "        pass    \n",
    "    df.to_csv(filename, index=False)"
   ],
   "id": "ac7c6b088c6a2afd",
   "outputs": [],
   "execution_count": 50
  },
  {
   "metadata": {},
   "cell_type": "markdown",
   "source": "### 5. Test",
   "id": "4955168891e013b7"
  },
  {
   "metadata": {
    "ExecuteTime": {
     "end_time": "2024-05-21T20:10:25.055477Z",
     "start_time": "2024-05-21T20:10:09.210118Z"
    }
   },
   "cell_type": "code",
   "source": [
    "url = \"https://geizhals.de/?fs=tv&hloc=at&hloc=de\"\n",
    "number_of_pages = 1\n",
    "\n",
    "products = get_products_from_plp(url, number_of_pages)\n",
    "save_to_csv(products, \"geizhals_products.csv\")\n",
    "\n",
    "print(pd.read_csv(\"geizhals_products.csv\"))"
   ],
   "id": "51f0006d5717596b",
   "outputs": [
    {
     "name": "stdout",
     "output_type": "stream",
     "text": [
      "Scraping page 1\n",
      "    Stars      Price        Offers                              PDP\n",
      "0     4.8   € 888,00   74 Angebote       lg-oled-c37la-v126789.html\n",
      "1     4.5   € 379,00  125 Angebote  samsung-gu-cu7179u-v126378.html\n",
      "2     4.9  € 1369,00   56 Angebote       lg-oled-g39la-v127135.html\n",
      "3     4.6   € 859,00   68 Angebote       lg-oled-c31la-v138668.html\n",
      "4     4.8   € 599,00  100 Angebote        hisense-u7kq-v133024.html\n",
      "..    ...        ...           ...                              ...\n",
      "85    4.3   € 929,00   29 Angebote  philips-55oled708-a2963030.html\n",
      "86    4.5  € 1444,99   63 Angebote     samsung-gq-s95c-v135924.html\n",
      "87    NaN  € 3299,00   12 Angebote     lg-oled65g49ls-a3164626.html\n",
      "88    4.8  € 1489,00   12 Angebote     lg-oled65c37la-a2904725.html\n",
      "89    4.2   € 599,00   25 Angebote     hisense-55u7kq-a2967257.html\n",
      "\n",
      "[90 rows x 4 columns]\n"
     ]
    }
   ],
   "execution_count": 54
  }
 ],
 "metadata": {
  "kernelspec": {
   "display_name": "Python 3",
   "language": "python",
   "name": "python3"
  },
  "language_info": {
   "codemirror_mode": {
    "name": "ipython",
    "version": 2
   },
   "file_extension": ".py",
   "mimetype": "text/x-python",
   "name": "python",
   "nbconvert_exporter": "python",
   "pygments_lexer": "ipython2",
   "version": "2.7.6"
  }
 },
 "nbformat": 4,
 "nbformat_minor": 5
}
