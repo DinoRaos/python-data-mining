{
 "cells": [
  {
   "metadata": {},
   "cell_type": "markdown",
   "source": "# Geizhals",
   "id": "6ca7e9d36dcb2d9"
  },
  {
   "metadata": {
    "ExecuteTime": {
     "end_time": "2024-05-17T18:55:44.504416Z",
     "start_time": "2024-05-17T18:55:44.501371Z"
    }
   },
   "cell_type": "code",
   "source": [
    "# IMPORTS\n",
    "import requests\n",
    "import time\n",
    "from bs4 import BeautifulSoup\n",
    "from selenium import webdriver\n",
    "from selenium.webdriver import ActionChains\n",
    "from selenium.webdriver.common.by import By\n",
    "from selenium.webdriver.support import expected_conditions as EC\n",
    "from selenium.webdriver.support.wait import WebDriverWait"
   ],
   "id": "3ad0df534b798e48",
   "outputs": [],
   "execution_count": 177
  },
  {
   "metadata": {},
   "cell_type": "markdown",
   "source": "### 1. WebDriver & Cookies",
   "id": "f04d0a85fa1dcb0c"
  },
  {
   "metadata": {
    "ExecuteTime": {
     "end_time": "2024-05-17T18:56:07.565818Z",
     "start_time": "2024-05-17T18:55:44.505424Z"
    }
   },
   "cell_type": "code",
   "source": [
    "local_site = \"file:///C:/Users/dinor/Downloads/geizhals.html\"\n",
    "\n",
    "\n",
    "def get_products_from_plp(url, number_of_pages):\n",
    "    driver = webdriver.Chrome()\n",
    "    driver.get(url)\n",
    "\n",
    "    # try:\n",
    "    #     WebDriverWait(driver, 10).until(\n",
    "    #         EC.element_to_be_clickable((By.ID, \"onetrust-accept-btn-handler\"))\n",
    "    #     )\n",
    "    # \n",
    "    #     time.sleep(1)\n",
    "    #     ActionChains(driver).click(driver.find_element(by=By.ID, value=\"onetrust-accept-btn-handler\")).perform()\n",
    "    # \n",
    "    # except Exception as e:\n",
    "    #     print(f\"An exception occurred: {e}\")\n",
    "\n",
    "\n",
    "print(get_products_from_plp(local_site, 1))\n"
   ],
   "id": "64e78ab58ac8b5eb",
   "outputs": [
    {
     "name": "stdout",
     "output_type": "stream",
     "text": [
      "None\n"
     ]
    }
   ],
   "execution_count": 178
  },
  {
   "metadata": {},
   "cell_type": "markdown",
   "source": "### 2. Productdata extraction",
   "id": "8a251fd6ffaff70c"
  },
  {
   "metadata": {
    "ExecuteTime": {
     "end_time": "2024-05-17T19:37:59.265774Z",
     "start_time": "2024-05-17T19:37:59.165277Z"
    }
   },
   "cell_type": "code",
   "source": [
    "def get_product_data():\n",
    "    with open(\"C:/Users/dinor/Downloads/geizhals.html\", \"r\", encoding=\"utf-8\") as page_content:\n",
    "        soup = BeautifulSoup(page_content, \"html.parser\")\n",
    "\n",
    "    products_data = []\n",
    "    stars, price, offers, pdp = \"\", \"\", \"\", \"\"\n",
    "\n",
    "    items = soup.find_all(\"article\", class_=\"listview__item\")\n",
    "\n",
    "    for item in items:\n",
    "        try:\n",
    "            stars = item.find(class_=\"stars-rating-label\").find(\"span\").text if stars != \"\" else None\n",
    "            price = item.find(class_=\"price\").text if price != \"\" else None\n",
    "            offers = item.find(class_=\"listview__offercount-link\").text.strip() if offers != \"\" else None\n",
    "            pdp = item.find(class_=\"listview__name-link\")[\"href\"] if pdp != \"\" else None\n",
    "            \n",
    "        except Exception as e:\n",
    "            print(\"Could not find element\")\n",
    "        \n",
    "        products_data.append([stars , price, offers, pdp])\n",
    "\n",
    "    for product in products_data:\n",
    "        print(product)\n",
    "\n",
    "\n",
    "get_product_data()"
   ],
   "id": "cc64f55982217e2c",
   "outputs": [
    {
     "name": "stdout",
     "output_type": "stream",
     "text": [
      "Could not find element\n",
      "Could not find element\n",
      "Could not find element\n",
      "Could not find element\n",
      "Could not find element\n",
      "Could not find element\n",
      "Could not find element\n",
      "[None, None, None, None]\n",
      "['4.8', '€ 888,00', '79 Angebote', 'https://geizhals.de/lg-oled-c37la-v126789.html']\n",
      "['4.5', '€ 379,00', '126 Angebote', 'https://geizhals.de/samsung-gu-cu7179u-v126378.html']\n",
      "['4.6', '€ 859,00', '67 Angebote', 'https://geizhals.de/lg-oled-c31la-v138668.html']\n",
      "['4.6', '€ 859,00', '67 Angebote', 'https://geizhals.de/lg-oled-c31la-v138668.html']\n",
      "['4.8', '€ 599,00', '104 Angebote', 'https://geizhals.de/hisense-u7kq-v133024.html']\n",
      "['4.8', '€ 599,00', '104 Angebote', 'https://geizhals.de/hisense-u7kq-v133024.html']\n",
      "['5.0', '€ 1935,00', '17 Angebote', 'https://geizhals.de/lg-oled65g3-a2871772.html']\n",
      "['3.7', '€ 869,00', '49 Angebote', 'https://geizhals.de/philips-oled708-v132476.html']\n",
      "['3.8', '€ 319,00', '82 Angebote', 'https://geizhals.de/philips-pus7608-v129297.html']\n",
      "['5.0', '€ 888,00', '15 Angebote', 'https://geizhals.de/lg-oled42c37la-a2904722.html']\n",
      "['5.0', '€ 888,00', '15 Angebote', 'https://geizhals.de/lg-oled42c37la-a2904722.html']\n",
      "['4.3', '€ 990,00', '13 Angebote', 'https://geizhals.de/lg-oled55c31la-a3008316.html']\n",
      "['4.7', '€ 1369,00', '20 Angebote', 'https://geizhals.de/lg-oled55g3-a2871771.html']\n",
      "['4.7', '€ 1369,00', '20 Angebote', 'https://geizhals.de/lg-oled55g3-a2871771.html']\n",
      "['4.5', '€ 449,00', '39 Angebote', 'https://geizhals.de/hisense-u6kq-v133029.html']\n",
      "['4.3', '€ 519,00', '20 Angebote', 'https://geizhals.de/samsung-gu55cu7179u-a2915270.html']\n",
      "['4.3', '€ 519,00', '20 Angebote', 'https://geizhals.de/samsung-gu55cu7179u-a2915270.html']\n",
      "['4.3', '€ 519,00', '20 Angebote', 'https://geizhals.de/samsung-gu55cu7179u-a2915270.html']\n",
      "['4.6', '€ 1199,00', '65 Angebote', 'https://geizhals.de/samsung-gq-s90cat-v127196.html']\n",
      "['4.4', '€ 2629,00', '5 Angebote', 'https://geizhals.de/lg-oled83c31la-a3008321.html']\n",
      "['3.3', '€ 599,00', '27 Angebote', 'https://geizhals.de/lg-qned816re-v128771.html']\n",
      "['3.3', '€ 599,00', '27 Angebote', 'https://geizhals.de/lg-qned816re-v128771.html']\n",
      "['4.4', '€ 881,73', '71 Angebote', 'https://geizhals.de/samsung-gq-qn85cat-v126364.html']\n",
      "['4.4', '€ 962,00', '32 Angebote', 'https://geizhals.de/lg-oled-b39la-v126903.html']\n",
      "['4.2', '€ 941,00', '23 Angebote', 'https://geizhals.de/philips-55oled708-a2963030.html']\n",
      "['4.4', '€ 379,00', '22 Angebote', 'https://geizhals.de/samsung-gu43cu7179u-a2915289.html']\n",
      "['4.5', '€ 1444,99', '62 Angebote', 'https://geizhals.de/samsung-gq-s95c-v135924.html']\n",
      "['4.4', '€ 1318,00', '16 Angebote', 'https://geizhals.de/lg-oled65c31la-a3008319.html']\n",
      "['4.2', '€ 599,00', '25 Angebote', 'https://geizhals.de/hisense-55u7kq-a2967257.html']\n"
     ]
    }
   ],
   "execution_count": 231
  }
 ],
 "metadata": {
  "kernelspec": {
   "display_name": "Python 3",
   "language": "python",
   "name": "python3"
  },
  "language_info": {
   "codemirror_mode": {
    "name": "ipython",
    "version": 2
   },
   "file_extension": ".py",
   "mimetype": "text/x-python",
   "name": "python",
   "nbconvert_exporter": "python",
   "pygments_lexer": "ipython2",
   "version": "2.7.6"
  }
 },
 "nbformat": 4,
 "nbformat_minor": 5
}
